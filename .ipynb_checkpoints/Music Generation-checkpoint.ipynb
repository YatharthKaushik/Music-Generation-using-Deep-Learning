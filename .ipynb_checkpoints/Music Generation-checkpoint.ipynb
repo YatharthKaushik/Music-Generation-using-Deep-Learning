{
 "cells": [
  {
   "cell_type": "code",
   "execution_count": 1,
   "metadata": {},
   "outputs": [
    {
     "name": "stderr",
     "output_type": "stream",
     "text": [
      "Using TensorFlow backend.\n"
     ]
    }
   ],
   "source": [
    "import glob\n",
    "import pickle\n",
    "import numpy\n",
    "from music21 import converter, instrument, note, chord, stream\n",
    "from keras.models import Sequential, load_model\n",
    "from keras.layers import Dense\n",
    "from keras.layers import Dropout\n",
    "from keras.layers import LSTM\n",
    "from keras.layers import Activation\n",
    "from keras.utils import np_utils\n",
    "from keras.callbacks import ModelCheckpoint, EarlyStopping"
   ]
  },
  {
   "cell_type": "markdown",
   "metadata": {},
   "source": [
    "## Get Notes from Music Files"
   ]
  },
  {
   "cell_type": "code",
   "execution_count": 2,
   "metadata": {},
   "outputs": [
    {
     "name": "stdout",
     "output_type": "stream",
     "text": [
      "Parsing midi_songs\\0fithos.mid\n",
      "Parsing midi_songs\\8.mid\n",
      "Parsing midi_songs\\ahead_on_our_way_piano.mid\n",
      "Parsing midi_songs\\AT.mid\n",
      "Parsing midi_songs\\balamb.mid\n",
      "Parsing midi_songs\\bcm.mid\n",
      "Parsing midi_songs\\BlueStone_LastDungeon.mid\n",
      "Parsing midi_songs\\braska.mid\n",
      "Parsing midi_songs\\caitsith.mid\n",
      "Parsing midi_songs\\Cids.mid\n",
      "Parsing midi_songs\\cosmo.mid\n",
      "Parsing midi_songs\\costadsol.mid\n",
      "Parsing midi_songs\\dayafter.mid\n",
      "Parsing midi_songs\\decisive.mid\n",
      "Parsing midi_songs\\dontbeafraid.mid\n",
      "Parsing midi_songs\\DOS.mid\n",
      "Parsing midi_songs\\electric_de_chocobo.mid\n",
      "Parsing midi_songs\\Eternal_Harvest.mid\n",
      "Parsing midi_songs\\EyesOnMePiano.mid\n",
      "Parsing midi_songs\\ff11_awakening_piano.mid\n",
      "Parsing midi_songs\\ff1battp.mid\n",
      "Parsing midi_songs\\FF3_Battle_(Piano).mid\n",
      "Parsing midi_songs\\FF3_Third_Phase_Final_(Piano).mid\n",
      "Parsing midi_songs\\ff4-airship.mid\n",
      "Parsing midi_songs\\Ff4-BattleLust.mid\n",
      "Parsing midi_songs\\ff4-fight1.mid\n",
      "Parsing midi_songs\\ff4-town.mid\n",
      "Parsing midi_songs\\FF4.mid\n",
      "Parsing midi_songs\\ff4pclov.mid\n",
      "Parsing midi_songs\\ff4_piano_collections-main_theme.mid\n",
      "Parsing midi_songs\\FF6epitaph_piano.mid\n",
      "Parsing midi_songs\\ff6shap.mid\n",
      "Parsing midi_songs\\Ff7-Cinco.mid\n",
      "Parsing midi_songs\\Ff7-Jenova_Absolute.mid\n",
      "Parsing midi_songs\\ff7-mainmidi.mid\n",
      "Parsing midi_songs\\Ff7-One_Winged.mid\n",
      "Parsing midi_songs\\ff7themep.mid\n",
      "Parsing midi_songs\\ff8-lfp.mid\n",
      "Parsing midi_songs\\FF8_Shuffle_or_boogie_pc.mid\n",
      "Parsing midi_songs\\FFIII_Edgar_And_Sabin_Piano.mid\n",
      "Parsing midi_songs\\FFIXQuMarshP.mid\n",
      "Parsing midi_songs\\FFIX_Piano.mid\n",
      "Parsing midi_songs\\FFVII_BATTLE.mid\n",
      "Parsing midi_songs\\FFX_-_Ending_Theme_(Piano_Version)_-_by_Angel_FF.mid\n",
      "Parsing midi_songs\\Fiend_Battle_(Piano).mid\n",
      "Parsing midi_songs\\Fierce_Battle_(Piano).mid\n",
      "Parsing midi_songs\\figaro.mid\n",
      "Parsing midi_songs\\Finalfantasy5gilgameshp.mid\n",
      "Parsing midi_songs\\Finalfantasy6fanfarecomplete.mid\n",
      "Parsing midi_songs\\Final_Fantasy_7_-_Judgement_Day_Piano.mid\n",
      "Parsing midi_songs\\Final_Fantasy_Matouyas_Cave_Piano.mid\n",
      "Parsing midi_songs\\fortresscondor.mid\n",
      "Parsing midi_songs\\Fyw_piano.mid\n",
      "Parsing midi_songs\\gerudo.mid\n",
      "Parsing midi_songs\\goldsaucer.mid\n",
      "Parsing midi_songs\\Gold_Silver_Rival_Battle.mid\n",
      "Parsing midi_songs\\great_war.mid\n",
      "Parsing midi_songs\\HighwindTakestotheSkies.mid\n",
      "Parsing midi_songs\\In_Zanarkand.mid\n",
      "Parsing midi_songs\\JENOVA.mid\n",
      "Parsing midi_songs\\Kingdom_Hearts_Dearly_Beloved.mid\n",
      "Parsing midi_songs\\Kingdom_Hearts_Traverse_Town.mid\n",
      "Parsing midi_songs\\Life_Stream.mid\n",
      "Parsing midi_songs\\lurk_in_dark.mid\n",
      "Parsing midi_songs\\mining.mid\n",
      "Parsing midi_songs\\Oppressed.mid\n",
      "Parsing midi_songs\\OTD5YA.mid\n",
      "Parsing midi_songs\\path_of_repentance.mid\n",
      "Parsing midi_songs\\pkelite4.mid\n",
      "Parsing midi_songs\\Rachel_Piano_tempofix.mid\n",
      "Parsing midi_songs\\redwings.mid\n",
      "Parsing midi_songs\\relmstheme-piano.mid\n",
      "Parsing midi_songs\\roseofmay-piano.mid\n",
      "Parsing midi_songs\\rufus.mid\n",
      "Parsing midi_songs\\Rydia_pc.mid\n",
      "Parsing midi_songs\\sandy.mid\n",
      "Parsing midi_songs\\sera_.mid\n",
      "Parsing midi_songs\\sobf.mid\n",
      "Parsing midi_songs\\Still_Alive-1.mid\n",
      "Parsing midi_songs\\Suteki_Da_Ne_(Piano_Version).mid\n",
      "Parsing midi_songs\\thenightmarebegins.mid\n",
      "Parsing midi_songs\\thoughts.mid\n",
      "Parsing midi_songs\\tifap.mid\n",
      "Parsing midi_songs\\tpirtsd-piano.mid\n",
      "Parsing midi_songs\\traitor.mid\n",
      "Parsing midi_songs\\ultimafro.mid\n",
      "Parsing midi_songs\\ultros.mid\n",
      "Parsing midi_songs\\VincentPiano.mid\n",
      "Parsing midi_songs\\ViviinAlexandria.mid\n",
      "Parsing midi_songs\\waltz_de_choco.mid\n",
      "Parsing midi_songs\\Zelda_Overworld.mid\n",
      "Parsing midi_songs\\z_aeristhemepiano.mid\n"
     ]
    }
   ],
   "source": [
    "notes = []\n",
    "\n",
    "\n",
    "for file in glob.glob(\"midi_songs/*.mid\"):\n",
    "    midi = converter.parse(file) #convert the file into stream.Score Object\n",
    "\n",
    "    print(\"Parsing %s\" % file)\n",
    "\n",
    "    notes_to_parse = None\n",
    "\n",
    "\n",
    "    \n",
    "    \n",
    "    \n",
    "#     try: # file has instrument parts\n",
    "#         s2 = instrument.partitionByInstrument(midi)\n",
    "#         notes_to_parse = s2.parts[0].recurse() \n",
    "#     except: # file has notes in a flat structure\n",
    "#         notes_to_parse = midi.flat.notes\n",
    "    \n",
    "    \n",
    "    \n",
    "    \n",
    "    \n",
    "    # unroll / flat the elements (notes/chords) into the list, because elements are sometimes in list of list form.\n",
    "    notes_to_parse = midi.flat.notes   \n",
    "    \n",
    "    \n",
    "    \n",
    "    \n",
    "    # At this point, we have notes_to_parse, which is a Iterator for all the Notes/Chords\n",
    "    \n",
    "    \n",
    "    \n",
    "    \n",
    "    for element in notes_to_parse:\n",
    "        \n",
    "        # If the element is a Note, then store it's pitch\n",
    "        if isinstance(element, note.Note): \n",
    "            notes.append(str(element.pitch))\n",
    "            \n",
    "        # If the element is a Chord, split each note of the chord and join them with +\n",
    "        elif isinstance(element, chord.Chord): \n",
    "            notes.append('+'.join(str(n) for n in element.normalOrder))"
   ]
  },
  {
   "cell_type": "code",
   "execution_count": null,
   "metadata": {},
   "outputs": [],
   "source": []
  },
  {
   "cell_type": "markdown",
   "metadata": {},
   "source": [
    "**Demo Of Above Code with single file**"
   ]
  },
  {
   "cell_type": "code",
   "execution_count": 3,
   "metadata": {},
   "outputs": [],
   "source": [
    "midi = converter.parse(\"midi_songs/mining.mid\") #convert the file into stream.Score Object"
   ]
  },
  {
   "cell_type": "code",
   "execution_count": 4,
   "metadata": {},
   "outputs": [
    {
     "data": {
      "text/plain": [
       "<music21.stream.Score 0x21585f0b908>"
      ]
     },
     "execution_count": 4,
     "metadata": {},
     "output_type": "execute_result"
    }
   ],
   "source": [
    "midi"
   ]
  },
  {
   "cell_type": "code",
   "execution_count": 5,
   "metadata": {},
   "outputs": [],
   "source": [
    "notes_to_parse = midi.flat.notes"
   ]
  },
  {
   "cell_type": "code",
   "execution_count": 6,
   "metadata": {},
   "outputs": [
    {
     "data": {
      "text/plain": [
       "237"
      ]
     },
     "execution_count": 6,
     "metadata": {},
     "output_type": "execute_result"
    }
   ],
   "source": [
    "len(notes_to_parse)"
   ]
  },
  {
   "cell_type": "code",
   "execution_count": 7,
   "metadata": {},
   "outputs": [
    {
     "name": "stdout",
     "output_type": "stream",
     "text": [
      "<music21.chord.Chord D3 A3>\n",
      "<music21.chord.Chord E3 B3>\n",
      "<music21.note.Note B>\n",
      "<music21.note.Note B>\n",
      "<music21.chord.Chord D3 A3>\n",
      "<music21.chord.Chord E3 B3>\n",
      "<music21.chord.Chord D3 A3>\n",
      "<music21.chord.Chord E3 B3>\n",
      "<music21.note.Note B>\n",
      "<music21.chord.Chord D3 A3>\n",
      "<music21.chord.Chord E3 B3>\n",
      "<music21.chord.Chord D3 A3>\n",
      "<music21.chord.Chord E3 B3>\n",
      "<music21.note.Note B>\n",
      "<music21.note.Note B>\n",
      "<music21.chord.Chord D3 A3>\n",
      "<music21.chord.Chord E3 B3>\n",
      "<music21.chord.Chord D3 A3>\n",
      "<music21.chord.Chord E3 B3>\n",
      "<music21.note.Note B>\n",
      "<music21.chord.Chord D3 A3>\n",
      "<music21.chord.Chord E3 B3>\n",
      "<music21.note.Note G>\n",
      "<music21.note.Note A>\n",
      "<music21.note.Note B>\n",
      "<music21.chord.Chord D3 A3>\n",
      "<music21.chord.Chord E3 B3>\n",
      "<music21.note.Note B>\n",
      "<music21.chord.Chord D3 A3>\n",
      "<music21.chord.Chord E3 B3>\n",
      "<music21.note.Note A>\n",
      "<music21.note.Note G>\n",
      "<music21.note.Note F#>\n",
      "<music21.chord.Chord D3 A3>\n",
      "<music21.chord.Chord E3 B3>\n",
      "<music21.note.Note B>\n",
      "<music21.chord.Chord D3 A3>\n",
      "<music21.chord.Chord E3 B3>\n",
      "<music21.note.Note E>\n",
      "<music21.note.Note F#>\n",
      "<music21.note.Note G>\n",
      "<music21.chord.Chord D3 A3>\n",
      "<music21.chord.Chord E3 B3>\n",
      "<music21.note.Note B>\n",
      "<music21.chord.Chord D3 A3>\n",
      "<music21.chord.Chord E3 B3>\n",
      "<music21.chord.Chord D3 A3>\n",
      "<music21.note.Note E>\n",
      "<music21.note.Note G>\n",
      "<music21.chord.Chord E3 B3>\n",
      "<music21.note.Note B>\n",
      "<music21.note.Note A>\n",
      "<music21.note.Note B>\n",
      "<music21.note.Note E>\n",
      "<music21.note.Note G>\n",
      "<music21.chord.Chord D3 A3>\n",
      "<music21.note.Note B>\n",
      "<music21.note.Note A>\n",
      "<music21.chord.Chord E3 B3>\n",
      "<music21.note.Note G>\n",
      "<music21.note.Note A>\n",
      "<music21.note.Note B>\n",
      "<music21.chord.Chord D3 A3>\n",
      "<music21.chord.Chord E3 B3>\n",
      "<music21.note.Note B>\n",
      "<music21.chord.Chord D3 A3>\n",
      "<music21.chord.Chord E3 B3>\n",
      "<music21.note.Note A>\n",
      "<music21.note.Note G>\n",
      "<music21.note.Note F#>\n",
      "<music21.chord.Chord D3 A3>\n",
      "<music21.chord.Chord E3 B3>\n",
      "<music21.note.Note B>\n",
      "<music21.chord.Chord D3 A3>\n",
      "<music21.chord.Chord E3 B3>\n",
      "<music21.note.Note E>\n",
      "<music21.note.Note F#>\n",
      "<music21.note.Note G>\n",
      "<music21.chord.Chord D3 A3>\n",
      "<music21.chord.Chord E3 B3>\n",
      "<music21.note.Note B>\n",
      "<music21.chord.Chord D3 A3>\n",
      "<music21.chord.Chord E3 B3>\n",
      "<music21.chord.Chord D3 A3>\n",
      "<music21.note.Note E>\n",
      "<music21.note.Note G>\n",
      "<music21.chord.Chord E3 B3>\n",
      "<music21.note.Note B>\n",
      "<music21.note.Note A>\n",
      "<music21.note.Note B>\n",
      "<music21.note.Note E>\n",
      "<music21.note.Note G>\n",
      "<music21.chord.Chord D3 A3>\n",
      "<music21.note.Note B>\n",
      "<music21.note.Note A>\n",
      "<music21.chord.Chord E3 B3>\n",
      "<music21.note.Note G>\n",
      "<music21.note.Note A>\n",
      "<music21.chord.Chord D3 A3>\n",
      "<music21.note.Note E>\n",
      "<music21.note.Note G>\n",
      "<music21.chord.Chord E3 B3>\n",
      "<music21.note.Note B>\n",
      "<music21.note.Note D>\n",
      "<music21.note.Note B>\n",
      "<music21.note.Note C#>\n",
      "<music21.note.Note B>\n",
      "<music21.chord.Chord D3 A3>\n",
      "<music21.note.Note A>\n",
      "<music21.chord.Chord E3 B3>\n",
      "<music21.note.Note C#>\n",
      "<music21.note.Note B>\n",
      "<music21.note.Note G>\n",
      "<music21.chord.Chord D3 A3>\n",
      "<music21.note.Note A>\n",
      "<music21.chord.Chord E3 B3>\n",
      "<music21.note.Note B>\n",
      "<music21.note.Note F#>\n",
      "<music21.note.Note G>\n",
      "<music21.chord.Chord D3 A3>\n",
      "<music21.note.Note F#>\n",
      "<music21.note.Note F>\n",
      "<music21.chord.Chord E3 B3>\n",
      "<music21.note.Note E>\n",
      "<music21.chord.Chord E4 G4>\n",
      "<music21.chord.Chord D3 A3>\n",
      "<music21.chord.Chord E3 B3>\n",
      "<music21.note.Note B>\n",
      "<music21.chord.Chord D4 F#4>\n",
      "<music21.chord.Chord D3 A3>\n",
      "<music21.chord.Chord E3 B3>\n",
      "<music21.chord.Chord C#4 E4>\n",
      "<music21.chord.Chord D3 A3>\n",
      "<music21.chord.Chord E3 B3>\n",
      "<music21.note.Note B>\n",
      "<music21.chord.Chord D3 A3>\n",
      "<music21.chord.Chord E3 B3>\n",
      "<music21.chord.Chord D3 A3>\n",
      "<music21.note.Note E>\n",
      "<music21.note.Note G>\n",
      "<music21.chord.Chord E3 B3>\n",
      "<music21.note.Note B>\n",
      "<music21.note.Note D>\n",
      "<music21.note.Note B>\n",
      "<music21.note.Note C#>\n",
      "<music21.note.Note B>\n",
      "<music21.chord.Chord D3 A3>\n",
      "<music21.note.Note A>\n",
      "<music21.chord.Chord E3 B3>\n",
      "<music21.note.Note C#>\n",
      "<music21.note.Note B>\n",
      "<music21.note.Note G>\n",
      "<music21.chord.Chord D3 A3>\n",
      "<music21.note.Note A>\n",
      "<music21.chord.Chord E3 B3>\n",
      "<music21.note.Note B>\n",
      "<music21.note.Note F#>\n",
      "<music21.note.Note G>\n",
      "<music21.chord.Chord D3 A3>\n",
      "<music21.note.Note F#>\n",
      "<music21.note.Note F>\n",
      "<music21.chord.Chord E3 B3>\n",
      "<music21.note.Note E>\n",
      "<music21.chord.Chord E4 G4>\n",
      "<music21.chord.Chord D3 A3>\n",
      "<music21.chord.Chord E3 B3>\n",
      "<music21.note.Note B>\n",
      "<music21.chord.Chord D4 F#4>\n",
      "<music21.chord.Chord D3 A3>\n",
      "<music21.chord.Chord E3 B3>\n",
      "<music21.chord.Chord G4 B4>\n",
      "<music21.chord.Chord D3 A3>\n",
      "<music21.chord.Chord E3 B3>\n",
      "<music21.note.Note B>\n",
      "<music21.chord.Chord D3 A3>\n",
      "<music21.chord.Chord E3 B3>\n",
      "<music21.note.Note A>\n",
      "<music21.note.Note B>\n",
      "<music21.note.Note C>\n",
      "<music21.chord.Chord E3 A3>\n",
      "<music21.chord.Chord F3 C4>\n",
      "<music21.note.Note C>\n",
      "<music21.chord.Chord E3 A3>\n",
      "<music21.chord.Chord F3 C4>\n",
      "<music21.note.Note B>\n",
      "<music21.note.Note A>\n",
      "<music21.note.Note G>\n",
      "<music21.chord.Chord D3 A3>\n",
      "<music21.chord.Chord E3 B3>\n",
      "<music21.note.Note B>\n",
      "<music21.chord.Chord D3 A3>\n",
      "<music21.chord.Chord E3 B3>\n",
      "<music21.note.Note B>\n",
      "<music21.note.Note C#>\n",
      "<music21.note.Note D>\n",
      "<music21.chord.Chord D3 B3>\n",
      "<music21.chord.Chord F#3 D4>\n",
      "<music21.chord.Chord B2 F#3>\n",
      "<music21.chord.Chord D3 B3>\n",
      "<music21.chord.Chord F#3 C4>\n",
      "<music21.note.Note C#>\n",
      "<music21.note.Note B>\n",
      "<music21.note.Note A>\n",
      "<music21.chord.Chord E-3 A3>\n",
      "<music21.chord.Chord F#3 C#4>\n",
      "<music21.chord.Chord A2 F#3>\n",
      "<music21.chord.Chord C#3 A3>\n",
      "<music21.chord.Chord F#3 C#4>\n",
      "<music21.note.Note A>\n",
      "<music21.note.Note B>\n",
      "<music21.note.Note C>\n",
      "<music21.chord.Chord E3 A3>\n",
      "<music21.chord.Chord F3 C4>\n",
      "<music21.note.Note C>\n",
      "<music21.chord.Chord E3 A3>\n",
      "<music21.chord.Chord F3 C4>\n",
      "<music21.note.Note B>\n",
      "<music21.note.Note A>\n",
      "<music21.note.Note G>\n",
      "<music21.chord.Chord E3 A3>\n",
      "<music21.chord.Chord F3 C4>\n",
      "<music21.chord.Chord C3 E3>\n",
      "<music21.chord.Chord D3 G3>\n",
      "<music21.chord.Chord E3 C4>\n",
      "<music21.note.Note E>\n",
      "<music21.note.Note G>\n",
      "<music21.note.Note F#>\n",
      "<music21.chord.Chord D3 A3>\n",
      "<music21.chord.Chord E3 B3>\n",
      "<music21.chord.Chord B2 F#3>\n",
      "<music21.chord.Chord D3 A3>\n",
      "<music21.chord.Chord E3 B3>\n",
      "<music21.chord.Chord D3 A3>\n",
      "<music21.chord.Chord E3 B3>\n",
      "<music21.chord.Chord B2 F#3>\n",
      "<music21.chord.Chord D3 A3>\n",
      "<music21.chord.Chord E3 B3>\n"
     ]
    }
   ],
   "source": [
    "for i in notes_to_parse:\n",
    "    print(i)"
   ]
  },
  {
   "cell_type": "code",
   "execution_count": 8,
   "metadata": {},
   "outputs": [],
   "source": [
    "notes_demo= []\n",
    "for element in notes_to_parse:\n",
    "    # If the element is a Note, then store it's pitch\n",
    "    if isinstance(element, note.Note): \n",
    "        notes_demo.append(str(element.pitch))\n",
    "\n",
    "    # If the element is a Chord, split each note of the chord and join them with dot\n",
    "    elif isinstance(element, chord.Chord): \n",
    "        notes_demo.append('+'.join(str(n) for n in element.normalOrder))"
   ]
  },
  {
   "cell_type": "code",
   "execution_count": 9,
   "metadata": {},
   "outputs": [
    {
     "name": "stdout",
     "output_type": "stream",
     "text": [
      "['9+2', '11+4', 'B5', 'B2', '9+2', '11+4', '9+2', '11+4', 'B2', '9+2', '11+4', '9+2', '11+4', 'B5', 'B2']\n"
     ]
    }
   ],
   "source": [
    "print(notes_demo[:15])"
   ]
  },
  {
   "cell_type": "code",
   "execution_count": null,
   "metadata": {},
   "outputs": [],
   "source": []
  },
  {
   "cell_type": "code",
   "execution_count": null,
   "metadata": {},
   "outputs": [],
   "source": []
  },
  {
   "cell_type": "code",
   "execution_count": null,
   "metadata": {},
   "outputs": [],
   "source": []
  },
  {
   "cell_type": "code",
   "execution_count": 10,
   "metadata": {},
   "outputs": [],
   "source": [
    "with open('data/notes_easy', 'wb') as filepath:\n",
    "    pickle.dump(notes, filepath)"
   ]
  },
  {
   "cell_type": "code",
   "execution_count": 11,
   "metadata": {},
   "outputs": [],
   "source": [
    "with open('data/notes_easy', 'rb') as filepath:\n",
    "    notes = pickle.load(filepath)"
   ]
  },
  {
   "cell_type": "code",
   "execution_count": 12,
   "metadata": {},
   "outputs": [],
   "source": [
    "n_vocab = len(set(notes))"
   ]
  },
  {
   "cell_type": "code",
   "execution_count": 13,
   "metadata": {},
   "outputs": [
    {
     "name": "stdout",
     "output_type": "stream",
     "text": [
      "Total notes-  60498\n",
      "Unique Notes-  359\n"
     ]
    }
   ],
   "source": [
    "print(\"Total notes- \",len(notes))\n",
    "print(\"Unique Notes- \",n_vocab)"
   ]
  },
  {
   "cell_type": "code",
   "execution_count": 14,
   "metadata": {},
   "outputs": [
    {
     "name": "stdout",
     "output_type": "stream",
     "text": [
      "['4+9', 'E2', '4+9', '4+9', '4+9', '4+9', '4+9', '4+9', '4+9', '11+4', '4+9', '11+4', '4+9', '4+9', '4+9', '4+9', '4+9', '0+4', 'E2', '4+9', '0+4', '4+9', '4+9', '4+9', '4+9', '4+9', '9+2', '4+9', '9+2', '9+2', '4+9', '4+9', '4+9', '4+9', '4+9', '4+9', 'E2', '4+9', '4+9', '4+9', '4+9', '4+9', 'E5', 'F5', 'G#5', 'A5', '4+9', '4+9', '5+11', '4+9', '5+11', '4+9', '4+9', '4+9', 'E5', 'F5', 'G#5', 'A5', '4+9', '4+9', '9+0', 'E2', '4+9', '9+0', '4+9', '4+9', '4+9', 'E5', 'F5', 'G#5', 'A5', '4+9', '4+9', '11+2', '4+9', '11+2', '11+2', '4+9', '4+9', '4+9', 'E5', 'F5', 'G#5', 'A5', '4+9', '4+9', '3+7+11', 'E-2', '3+7+11', 'B2', 'G2', '1+5+9', 'F#2', '1+5+9', '3+7+11', 'E-2', '3+7+11', 'G2', 'B2', 'E-3']\n"
     ]
    }
   ],
   "source": [
    "# notes is a list of all the notes in each music file - 60000\n",
    "print(notes[:100])"
   ]
  },
  {
   "cell_type": "markdown",
   "metadata": {},
   "source": [
    "### Prepare Sequence()"
   ]
  },
  {
   "cell_type": "code",
   "execution_count": 15,
   "metadata": {},
   "outputs": [],
   "source": [
    "#  How many elements LSTM input should consider\n",
    "sequence_length = 100"
   ]
  },
  {
   "cell_type": "code",
   "execution_count": 16,
   "metadata": {},
   "outputs": [],
   "source": [
    "# ALl the unique elements in a sorted manner\n",
    "pitchnames = sorted(set(item for item in notes))"
   ]
  },
  {
   "cell_type": "code",
   "execution_count": 17,
   "metadata": {},
   "outputs": [
    {
     "name": "stdout",
     "output_type": "stream",
     "text": [
      "{'0': 0, '0+1': 1, '0+1+5': 2, '0+1+6': 3, '0+2': 4, '0+2+3+7': 5, '0+2+4+7': 6, '0+2+5': 7, '0+2+6': 8, '0+2+7': 9, '0+3': 10, '0+3+5': 11, '0+3+5+8': 12, '0+3+6': 13, '0+3+6+8': 14, '0+3+6+9': 15, '0+3+7': 16, '0+4': 17, '0+4+5': 18, '0+4+6': 19, '0+4+7': 20, '0+5': 21, '0+5+6': 22, '0+6': 23, '1': 24, '1+2': 25, '1+2+4+6+8+10': 26, '1+2+6': 27, '1+2+6+8': 28, '1+3': 29, '1+3+5': 30, '1+3+5+8': 31, '1+3+6': 32, '1+3+7': 33, '1+3+8': 34, '1+4': 35, '1+4+6': 36, '1+4+6+9': 37, '1+4+7': 38, '1+4+7+10': 39, '1+4+7+9': 40, '1+4+8': 41, '1+5': 42, '1+5+8': 43, '1+5+9': 44, '1+6': 45, '1+7': 46, '10': 47, '10+0': 48, '10+0+2+5': 49, '10+0+3': 50, '10+0+4': 51, '10+0+5': 52, '10+1': 53, '10+1+3': 54, '10+1+3+5+6': 55, '10+1+3+6': 56, '10+1+4': 57, '10+1+4+6': 58, '10+1+5': 59, '10+11': 60, '10+11+3': 61, '10+11+3+5': 62, '10+2': 63, '10+2+3': 64, '10+2+4': 65, '10+2+5': 66, '10+3': 67, '11': 68, '11+0': 69, '11+0+4': 70, '11+0+4+6': 71, '11+0+4+7': 72, '11+0+5': 73, '11+1': 74, '11+1+4': 75, '11+1+4+5': 76, '11+1+5': 77, '11+1+6': 78, '11+2': 79, '11+2+4': 80, '11+2+4+6': 81, '11+2+4+7': 82, '11+2+5': 83, '11+2+5+7': 84, '11+2+6': 85, '11+3': 86, '11+3+5': 87, '11+3+6': 88, '11+4': 89, '11+4+5': 90, '2': 91, '2+3': 92, '2+3+7': 93, '2+3+7+10': 94, '2+3+7+9': 95, '2+4': 96, '2+4+5': 97, '2+4+5+9': 98, '2+4+6+9+11': 99, '2+4+7': 100, '2+4+7+10': 101, '2+4+8': 102, '2+4+9': 103, '2+5': 104, '2+5+7': 105, '2+5+7+10': 106, '2+5+8': 107, '2+5+8+10': 108, '2+5+8+11': 109, '2+5+9': 110, '2+6': 111, '2+6+10': 112, '2+6+7': 113, '2+6+7+9': 114, '2+6+9': 115, '2+7': 116, '2+7+8': 117, '2+8': 118, '3': 119, '3+4': 120, '3+4+8': 121, '3+4+8+10': 122, '3+5': 123, '3+5+10': 124, '3+5+7': 125, '3+5+7+10': 126, '3+5+7+8+11': 127, '3+5+8': 128, '3+5+8+11': 129, '3+6': 130, '3+6+10': 131, '3+6+7': 132, '3+6+8': 133, '3+6+9+11': 134, '3+7': 135, '3+7+10': 136, '3+7+11': 137, '3+7+9': 138, '3+7+9+10': 139, '3+8': 140, '3+8+9': 141, '3+9': 142, '4': 143, '4+10': 144, '4+5': 145, '4+5+7+11': 146, '4+5+9': 147, '4+5+9+0': 148, '4+5+9+11': 149, '4+6': 150, '4+6+10': 151, '4+6+11': 152, '4+6+7': 153, '4+6+8': 154, '4+6+8+11+1': 155, '4+6+9': 156, '4+6+9+11': 157, '4+7': 158, '4+7+10': 159, '4+7+11': 160, '4+7+9': 161, '4+7+9+0': 162, '4+7+9+11': 163, '4+8': 164, '4+8+10': 165, '4+8+11': 166, '4+8+9': 167, '4+8+9+11': 168, '4+9': 169, '4+9+10': 170, '5': 171, '5+10': 172, '5+10+11': 173, '5+11': 174, '5+6': 175, '5+7': 176, '5+7+0': 177, '5+7+10': 178, '5+7+8+0': 179, '5+8': 180, '5+8+0': 181, '5+8+10': 182, '5+8+11': 183, '5+9': 184, '5+9+0': 185, '5+9+11': 186, '5+9+11+0': 187, '6': 188, '6+10': 189, '6+10+0': 190, '6+10+1': 191, '6+10+11': 192, '6+10+11+1': 193, '6+11': 194, '6+11+0': 195, '6+7': 196, '6+7+0': 197, '6+7+11': 198, '6+7+11+2': 199, '6+8': 200, '6+8+0': 201, '6+8+1': 202, '6+8+10': 203, '6+8+10+0+3': 204, '6+8+11': 205, '6+8+11+2': 206, '6+9': 207, '6+9+0': 208, '6+9+0+2': 209, '6+9+1': 210, '6+9+11': 211, '6+9+11+2': 212, '7': 213, '7+0': 214, '7+10': 215, '7+10+0': 216, '7+10+0+3': 217, '7+10+1': 218, '7+10+1+3': 219, '7+10+2': 220, '7+11': 221, '7+11+0': 222, '7+11+2': 223, '7+8': 224, '7+8+0': 225, '7+8+0+3': 226, '7+8+10+2': 227, '7+8+11': 228, '7+9': 229, '7+9+0': 230, '7+9+1': 231, '7+9+11': 232, '7+9+11+2': 233, '7+9+2': 234, '8': 235, '8+0': 236, '8+0+1': 237, '8+0+2': 238, '8+0+3': 239, '8+1': 240, '8+10': 241, '8+10+0': 242, '8+10+1': 243, '8+10+11+1+4': 244, '8+10+11+3': 245, '8+10+2': 246, '8+10+3': 247, '8+11': 248, '8+11+1': 249, '8+11+1+4': 250, '8+11+2': 251, '8+11+3': 252, '8+9': 253, '8+9+1': 254, '8+9+1+3': 255, '8+9+1+4': 256, '8+9+11+1': 257, '8+9+2': 258, '9': 259, '9+0': 260, '9+0+2': 261, '9+0+2+4': 262, '9+0+2+5': 263, '9+0+3': 264, '9+0+3+5': 265, '9+0+4': 266, '9+1': 267, '9+1+4': 268, '9+10': 269, '9+10+2': 270, '9+10+2+4': 271, '9+11': 272, '9+11+0+4': 273, '9+11+1': 274, '9+11+2': 275, '9+11+2+4': 276, '9+11+2+5': 277, '9+11+3': 278, '9+11+4': 279, '9+2': 280, '9+2+3': 281, 'A0': 282, 'A1': 283, 'A2': 284, 'A3': 285, 'A4': 286, 'A5': 287, 'A6': 288, 'B-1': 289, 'B-2': 290, 'B-3': 291, 'B-4': 292, 'B-5': 293, 'B-6': 294, 'B0': 295, 'B1': 296, 'B2': 297, 'B3': 298, 'B4': 299, 'B5': 300, 'B6': 301, 'C#1': 302, 'C#2': 303, 'C#3': 304, 'C#4': 305, 'C#5': 306, 'C#6': 307, 'C#7': 308, 'C1': 309, 'C2': 310, 'C3': 311, 'C4': 312, 'C5': 313, 'C6': 314, 'C7': 315, 'D1': 316, 'D2': 317, 'D3': 318, 'D4': 319, 'D5': 320, 'D6': 321, 'D7': 322, 'E-1': 323, 'E-2': 324, 'E-3': 325, 'E-4': 326, 'E-5': 327, 'E-6': 328, 'E1': 329, 'E2': 330, 'E3': 331, 'E4': 332, 'E5': 333, 'E6': 334, 'F#1': 335, 'F#2': 336, 'F#3': 337, 'F#4': 338, 'F#5': 339, 'F#6': 340, 'F1': 341, 'F2': 342, 'F3': 343, 'F4': 344, 'F5': 345, 'F6': 346, 'G#1': 347, 'G#2': 348, 'G#3': 349, 'G#4': 350, 'G#5': 351, 'G#6': 352, 'G1': 353, 'G2': 354, 'G3': 355, 'G4': 356, 'G5': 357, 'G6': 358}\n"
     ]
    }
   ],
   "source": [
    "# Mapping between note to int value\n",
    "note_to_int = dict((note, number) for number, note in enumerate(pitchnames))\n",
    "print(note_to_int)"
   ]
  },
  {
   "cell_type": "code",
   "execution_count": 18,
   "metadata": {},
   "outputs": [],
   "source": [
    "network_input = []\n",
    "network_output = []"
   ]
  },
  {
   "cell_type": "code",
   "execution_count": 19,
   "metadata": {},
   "outputs": [],
   "source": [
    "# Make the data for LSTM Network\n",
    "# Each Node will contain 100 input units\n",
    "# Output will be the next unit in notes list\n",
    "\n",
    "for i in range(0, len(notes) - sequence_length, 1):\n",
    "    \n",
    "    sequence_in = notes[i:i + sequence_length] # contains 100 values \n",
    "    sequence_out = notes[i + sequence_length] # containes next values for these 100's\n",
    "    \n",
    "    # Since NN works with numeric data only, append the int values for inputs and outputs.\n",
    "    network_input.append([note_to_int[char] for char in sequence_in])\n",
    "    network_output.append(note_to_int[sequence_out])"
   ]
  },
  {
   "cell_type": "code",
   "execution_count": 20,
   "metadata": {},
   "outputs": [
    {
     "name": "stdout",
     "output_type": "stream",
     "text": [
      "60398\n"
     ]
    }
   ],
   "source": [
    "# No. of examples for our network\n",
    "\n",
    "n_patterns = len(network_input)\n",
    "print(n_patterns)"
   ]
  },
  {
   "cell_type": "code",
   "execution_count": 21,
   "metadata": {},
   "outputs": [
    {
     "name": "stdout",
     "output_type": "stream",
     "text": [
      "(60398, 100, 1)\n"
     ]
    }
   ],
   "source": [
    "# ight now network_input is lits, but reshape it into a format compatible with LSTM layers\n",
    "network_input = numpy.reshape(network_input, (n_patterns, sequence_length, 1))\n",
    "print(network_input.shape)"
   ]
  },
  {
   "cell_type": "code",
   "execution_count": 22,
   "metadata": {},
   "outputs": [],
   "source": [
    "normalised_network_input = network_input/float(n_vocab)"
   ]
  },
  {
   "cell_type": "code",
   "execution_count": 23,
   "metadata": {},
   "outputs": [],
   "source": [
    "# network_output are the classes, encode one_hot_vector\n",
    "network_output = np_utils.to_categorical(network_output)"
   ]
  },
  {
   "cell_type": "code",
   "execution_count": 24,
   "metadata": {},
   "outputs": [
    {
     "name": "stdout",
     "output_type": "stream",
     "text": [
      "(60398, 359)\n",
      "(60398, 100, 1)\n"
     ]
    }
   ],
   "source": [
    "print(network_output.shape)\n",
    "print(normalised_network_input.shape)"
   ]
  },
  {
   "cell_type": "markdown",
   "metadata": {},
   "source": [
    "## Create Model"
   ]
  },
  {
   "cell_type": "code",
   "execution_count": 25,
   "metadata": {},
   "outputs": [
    {
     "name": "stdout",
     "output_type": "stream",
     "text": [
      "WARNING:tensorflow:From C:\\Users\\Mohit Uniyal\\Anaconda3\\lib\\site-packages\\tensorflow\\python\\framework\\op_def_library.py:263: colocate_with (from tensorflow.python.framework.ops) is deprecated and will be removed in a future version.\n",
      "Instructions for updating:\n",
      "Colocations handled automatically by placer.\n",
      "WARNING:tensorflow:From C:\\Users\\Mohit Uniyal\\Anaconda3\\lib\\site-packages\\keras\\backend\\tensorflow_backend.py:3445: calling dropout (from tensorflow.python.ops.nn_ops) with keep_prob is deprecated and will be removed in a future version.\n",
      "Instructions for updating:\n",
      "Please use `rate` instead of `keep_prob`. Rate should be set to `rate = 1 - keep_prob`.\n"
     ]
    }
   ],
   "source": [
    "\"\"\" create the structure of the neural network \"\"\"\n",
    "model = Sequential()\n",
    "model.add(LSTM(512,\n",
    "            input_shape=(network_input.shape[1], network_input.shape[2]),\n",
    "            return_sequences=True ))\n",
    "model.add(Dropout(0.3))\n",
    "model.add(LSTM(512, return_sequences=True))\n",
    "model.add(Dropout(0.3))\n",
    "model.add(LSTM(512))\n",
    "model.add(Dense(256))\n",
    "model.add(Dropout(0.3))\n",
    "model.add(Dense(n_vocab))\n",
    "model.add(Activation('softmax'))\n",
    "model.compile(loss='categorical_crossentropy', optimizer='rmsprop')\n"
   ]
  },
  {
   "cell_type": "code",
   "execution_count": 26,
   "metadata": {},
   "outputs": [
    {
     "name": "stdout",
     "output_type": "stream",
     "text": [
      "_________________________________________________________________\n",
      "Layer (type)                 Output Shape              Param #   \n",
      "=================================================================\n",
      "lstm_1 (LSTM)                (None, 100, 512)          1052672   \n",
      "_________________________________________________________________\n",
      "dropout_1 (Dropout)          (None, 100, 512)          0         \n",
      "_________________________________________________________________\n",
      "lstm_2 (LSTM)                (None, 100, 512)          2099200   \n",
      "_________________________________________________________________\n",
      "dropout_2 (Dropout)          (None, 100, 512)          0         \n",
      "_________________________________________________________________\n",
      "lstm_3 (LSTM)                (None, 512)               2099200   \n",
      "_________________________________________________________________\n",
      "dense_1 (Dense)              (None, 256)               131328    \n",
      "_________________________________________________________________\n",
      "dropout_3 (Dropout)          (None, 256)               0         \n",
      "_________________________________________________________________\n",
      "dense_2 (Dense)              (None, 359)               92263     \n",
      "_________________________________________________________________\n",
      "activation_1 (Activation)    (None, 359)               0         \n",
      "=================================================================\n",
      "Total params: 5,474,663\n",
      "Trainable params: 5,474,663\n",
      "Non-trainable params: 0\n",
      "_________________________________________________________________\n"
     ]
    }
   ],
   "source": [
    "model.summary()"
   ]
  },
  {
   "cell_type": "code",
   "execution_count": 27,
   "metadata": {},
   "outputs": [],
   "source": [
    "\"\"\" train the neural network \"\"\"\n",
    "\n",
    "filepath = \"weights-improvement-{epoch:02d}-{loss:.4f}-bigger.hdf5\"\n",
    "\n",
    "checkpoint = ModelCheckpoint(\n",
    "    filepath,\n",
    "    monitor='loss',\n",
    "    verbose=0,\n",
    "    save_best_only=True,\n",
    "    mode='min')\n",
    "\n",
    "callbacks_list = [checkpoint]\n",
    "\n",
    "model_his = model.fit(network_input, network_output, epochs=50, batch_size=64, callbacks=callbacks_list)"
   ]
  },
  {
   "cell_type": "code",
   "execution_count": 28,
   "metadata": {},
   "outputs": [
    {
     "name": "stdout",
     "output_type": "stream",
     "text": [
      "WARNING:tensorflow:From C:\\Users\\Mohit Uniyal\\Anaconda3\\lib\\site-packages\\tensorflow\\python\\ops\\math_ops.py:3066: to_int32 (from tensorflow.python.ops.math_ops) is deprecated and will be removed in a future version.\n",
      "Instructions for updating:\n",
      "Use tf.cast instead.\n"
     ]
    }
   ],
   "source": [
    "model = load_model(\"new_weights.hdf5\")"
   ]
  },
  {
   "cell_type": "markdown",
   "metadata": {},
   "source": [
    "# Predictions"
   ]
  },
  {
   "cell_type": "code",
   "execution_count": 29,
   "metadata": {},
   "outputs": [],
   "source": [
    "#  This is done beacuse we need network_input as list, and we had converted it into ndarray to feed into network\n",
    "#  so, to get back the list.\n",
    "\n",
    "sequence_length = 100\n",
    "network_input = []\n",
    "for i in range(0, len(notes) - sequence_length, 1):\n",
    "    sequence_in = notes[i:i + sequence_length]\n",
    "    network_input.append([note_to_int[char] for char in sequence_in])"
   ]
  },
  {
   "cell_type": "code",
   "execution_count": null,
   "metadata": {},
   "outputs": [],
   "source": []
  },
  {
   "cell_type": "code",
   "execution_count": 30,
   "metadata": {},
   "outputs": [],
   "source": [
    "\"\"\" Generate notes from the neural network based on a sequence of notes \"\"\"\n",
    "\n",
    "# pick a random sequence from the input as a starting point for the prediction\n",
    "start = numpy.random.randint(0, len(network_input)-1)\n",
    "\n",
    "# Mapping from int to note\n",
    "int_to_note = dict((number, note) for number, note in enumerate(pitchnames))\n",
    "\n",
    "# initial pattern\n",
    "pattern = network_input[start]\n",
    "prediction_output = []\n",
    "\n",
    "# generate 500 notes\n",
    "for note_index in range(500):\n",
    "    prediction_input = numpy.reshape(pattern, (1, len(pattern), 1))\n",
    "    prediction_input = prediction_input / float(n_vocab)\n",
    "\n",
    "    prediction = model.predict(prediction_input, verbose=0)\n",
    "\n",
    "    index = numpy.argmax(prediction)\n",
    "    result = int_to_note[index]\n",
    "    prediction_output.append(result)\n",
    "\n",
    "    \n",
    "    # Remove the first value, and append the recent value.. \n",
    "    # This way input is moving forward step-by-step with time..\n",
    "    pattern.append(index)\n",
    "    pattern = pattern[1:len(pattern)]"
   ]
  },
  {
   "cell_type": "code",
   "execution_count": 31,
   "metadata": {},
   "outputs": [
    {
     "name": "stdout",
     "output_type": "stream",
     "text": [
      "['E-2', 'E5', 'E-2', 'E-5', 'C#2', 'C#2', 'E2', 'E2', 'C#2', 'E-2', 'E2', 'E-2', 'F5', 'G#5', 'E-2', 'C#2', 'G#5', 'C#2', 'G#5', 'F#5', 'G#2', 'E-2', 'G5', 'C#5', 'C4', 'G#2', 'B5', 'G#2', 'C#3', 'F#5', 'B5', 'F#2', 'B2', 'B2', 'B-4', 'E2', 'G#2', 'B2', '3+9', '1+7', 'C#2', 'F#5', 'G#5', 'E-2', 'E2', 'F#5', 'A5', 'E5', 'B5', 'E-2', 'C#2', '3+9', 'G#2', 'G#5', 'C#5', 'C#3', 'E-5', 'F#2', 'B5', 'F#5', 'B2', 'B-5', 'E5', 'A5', 'B-2', 'G#5', 'F#2', 'C#6', 'B5', 'G#2', 'A2', 'A5', 'C#6', 'G#2', '8+1', 'F#2', '1+6', 'C#3', 'F#3', 'F#5', 'C#6', 'E6', 'A5', 'B2', 'E3', '3+8', '0+6', 'F#2', '11+1', 'G#2', 'A2', 'C#6', 'B5', 'A5', 'E6', 'G#2', 'F#2', '3+8', 'C#3', 'F#5', 'F#5', 'F#3', 'G#5', 'C#6', 'B2', '9+0', 'E3', '8+1', 'E-3', 'C#2', 'F#5', 'G#5', 'E-2', 'E2', 'G#5', 'E5', 'E-2', 'G#5', 'E-5', 'C#2', 'C#5', 'G#5', 'G#2', 'C#3', 'C#5', 'E5', 'B5', 'F#2', 'B2', '3+9', '1+7', 'C#2', 'G#5', 'F#5', 'E-2', 'E2', 'F#5', 'A5', 'B5', 'E5', 'E-2', 'C#2', '3+9', 'G#2', 'C#5', 'G#5', 'C#3', 'E-5', 'F#2', 'F#5', 'B5', 'B2', 'B-5', 'A5', 'E5', 'B-2', 'G#5', 'F#2', 'C#6', 'B5', 'G#2', 'A2', 'C#6', 'A5', 'G#2', '8+1', 'F#2', '1+6', 'C#3', 'F#3', 'C#6', 'F#5', 'A5', 'E6', 'B2', 'E3', '3+8', '0+6', 'F#2', '11+1', 'G#2', 'A2', 'B5', 'C#6', 'E6', 'A5', 'G#2', 'F#2', '3+8', 'C#3', 'F#5', 'C#6', 'F#3', 'C#6', 'G#5', 'B2', '9+0', 'E3', '8+1', 'E-3', 'G#5', 'C5', 'G#1', 'E-5', 'E5', 'A4', 'A1', 'C#5', 'E5', 'F#5', 'B4', 'B1', 'F#5', '4+10', 'C2', 'C5', 'A4', '8+1', 'C#2', 'E-2', 'E2', 'F#2', 'G2', 'F#2', 'E2', 'E-2', 'C#2', 'E-2', 'E2', 'F#2', 'G2', 'F#2', 'E2', 'E-2', 'C5', 'G#5', 'G#1', 'E-5', 'A4', 'E5', 'A1', 'C#5', 'E5', 'B4', 'F#5', 'B1', 'F#5', '4+10', 'C2', 'A4', 'C5', '8+1', 'C#2', 'E-2', 'E2', 'E-2', 'C#2', 'E-2', 'E2', 'E-2', 'C#2', 'E-2', 'C#2', 'E-2', 'E2', 'E-2', 'C#2', 'E-2', 'E2', 'E-2', 'C#2', 'E-2', 'C#2', 'G#5', 'E2', 'E-2', 'E2', 'C#2', 'E-2', 'E2', 'E-2', 'C#2', 'E-2', 'E2', 'E-2', 'C#2', 'E-2', 'C#2', 'E-2', 'E2', 'E-2', 'C#2', 'E-2', 'E2', 'E-2', 'C#2', 'E-2', 'C#2', 'E-2', 'E2', 'E-2', 'C#2', 'E-2', 'E2', 'E-2', 'C#2', 'E-2', 'C#2', 'E-2', 'E2', 'E-2', 'C#2', 'E-2', 'E2', 'E-2', 'C#2', 'E-2', 'C#2', 'E-2', 'E2', 'E-2', 'C#2', 'E-2', 'E2', 'E-2', 'C#2', 'E-2', 'C#2', 'E-2', 'E2', 'E-2', 'C#2', 'E-2', 'E2', 'E-2', 'C#2', 'E-2', 'C#2', 'E-2', 'E2', 'E-2', 'C#2', 'E-2', 'E2', 'E-2', 'C#2', 'E-2', 'C#2', 'E-2', 'C3', 'E-2', 'C#2', 'E-2', 'C#2', 'E-2', 'C3', 'E-2', 'C#2', 'D2', 'C#2', 'D2', 'E-2', 'E-2', 'C#2', 'E-2', 'C#5', 'E-2', 'C#2', 'E-2', 'B1', 'E-2', 'C#5', 'D2', 'C#2', 'D2', 'C4', 'D2', 'E-2', 'E-2', 'D2', 'D2', 'E-2', 'E-2', 'E-2', 'B-4', 'E-2', '5+9', 'E-2', 'B-4', '6+10', 'D2', 'D2', 'E-2', 'E-2', 'C4', '2+5', 'F4', 'C5', 'B4', 'C5', '4+7', 'D2', 'F4', 'B2', 'C3', 'D2', 'F#3', 'C3', 'B2', 'D4', '4+7', 'E5', 'C5', 'G#2', 'C#4', 'B-4', 'C3', 'F#2', 'E-2', 'F#3', 'D5', 'F#5', '9+2', 'E-2', 'C#5', 'F#3', 'C#3', 'A4', 'C#5', 'E2', 'B-4', 'F#2', 'B4', 'F#5', 'F2', 'E2', 'F#5', 'D2', 'E2', 'C#5', 'A5', 'G#5', 'C#2', 'G#2', 'B4', 'A4', 'B5', 'F#2', 'F#2', 'A2', 'B-3', 'F#3', 'C#3', 'F#4', 'B2', 'A4', 'F#3', 'F#3', 'C#5', 'B2', 'B4', 'B4', 'C3', 'C3', 'B4', 'F5', 'E3', 'F#4', 'G2', 'A4', 'F#2', 'B4', 'F#4', 'A4', 'C#4', 'B-4', 'D5', 'F4', 'B4', 'F#5', 'B4', 'A4', 'B4', 'B4', 'C5', 'C5', 'B4', 'B4', 'F#3', 'B2', 'F#5', 'G4', 'A2', 'G2', 'C#5', 'G4', 'F#4', 'A4', 'B-4', 'A2']\n"
     ]
    }
   ],
   "source": [
    "#  Our newly generated song (mix of chords and notes)\n",
    "print(prediction_output)"
   ]
  },
  {
   "cell_type": "markdown",
   "metadata": {},
   "source": [
    "## Create MIDI File"
   ]
  },
  {
   "cell_type": "code",
   "execution_count": 32,
   "metadata": {},
   "outputs": [],
   "source": [
    "\"\"\" convert the output from the prediction to notes and create a midi file from the notes \"\"\"\n",
    "\n",
    "offset = 0 # Time\n",
    "output_notes = []\n",
    "\n",
    "# create note and chord objects based on the values generated by the model\n",
    "for pattern in prediction_output:\n",
    "    \n",
    "    # if pattern is a chord\n",
    "    if ('+' in pattern) or pattern.isdigit():\n",
    "        notes_in_chord = pattern.split('+') # split all the notes from a chord\n",
    "        notes = []\n",
    "        for current_note in notes_in_chord: \n",
    "            new_note = note.Note(int(current_note)) # create Note object for each note in the chord\n",
    "            new_note.storedInstrument = instrument.Piano() \n",
    "            notes.append(new_note) # list of Notes()\n",
    "            \n",
    "        new_chord = chord.Chord(notes)  # Create the Chord() from the list of notes.\n",
    "        new_chord.offset = offset # set offset to the element\n",
    "        output_notes.append(new_chord) \n",
    "        \n",
    "    # if pattern is a note\n",
    "    else:\n",
    "        new_note = note.Note(pattern) #  create Note object\n",
    "        new_note.offset = offset # set offset  (basically timestamp)\n",
    "        new_note.storedInstrument = instrument.Piano()\n",
    "        output_notes.append(new_note) \n",
    "\n",
    "    # increase offset each iteration so that notes do not stack (time stamp)\n",
    "    offset += 0.5"
   ]
  },
  {
   "cell_type": "code",
   "execution_count": 33,
   "metadata": {},
   "outputs": [
    {
     "data": {
      "text/plain": [
       "[<music21.note.Note E->,\n",
       " <music21.note.Note E>,\n",
       " <music21.note.Note E->,\n",
       " <music21.note.Note E->,\n",
       " <music21.note.Note C#>,\n",
       " <music21.note.Note C#>,\n",
       " <music21.note.Note E>,\n",
       " <music21.note.Note E>,\n",
       " <music21.note.Note C#>,\n",
       " <music21.note.Note E->,\n",
       " <music21.note.Note E>,\n",
       " <music21.note.Note E->,\n",
       " <music21.note.Note F>,\n",
       " <music21.note.Note G#>,\n",
       " <music21.note.Note E->,\n",
       " <music21.note.Note C#>,\n",
       " <music21.note.Note G#>,\n",
       " <music21.note.Note C#>,\n",
       " <music21.note.Note G#>,\n",
       " <music21.note.Note F#>,\n",
       " <music21.note.Note G#>,\n",
       " <music21.note.Note E->,\n",
       " <music21.note.Note G>,\n",
       " <music21.note.Note C#>,\n",
       " <music21.note.Note C>,\n",
       " <music21.note.Note G#>,\n",
       " <music21.note.Note B>,\n",
       " <music21.note.Note G#>,\n",
       " <music21.note.Note C#>,\n",
       " <music21.note.Note F#>,\n",
       " <music21.note.Note B>,\n",
       " <music21.note.Note F#>,\n",
       " <music21.note.Note B>,\n",
       " <music21.note.Note B>,\n",
       " <music21.note.Note B->,\n",
       " <music21.note.Note E>,\n",
       " <music21.note.Note G#>,\n",
       " <music21.note.Note B>,\n",
       " <music21.chord.Chord E- A>,\n",
       " <music21.chord.Chord C# G>,\n",
       " <music21.note.Note C#>,\n",
       " <music21.note.Note F#>,\n",
       " <music21.note.Note G#>,\n",
       " <music21.note.Note E->,\n",
       " <music21.note.Note E>,\n",
       " <music21.note.Note F#>,\n",
       " <music21.note.Note A>,\n",
       " <music21.note.Note E>,\n",
       " <music21.note.Note B>,\n",
       " <music21.note.Note E->]"
      ]
     },
     "execution_count": 33,
     "metadata": {},
     "output_type": "execute_result"
    }
   ],
   "source": [
    "output_notes[:50]"
   ]
  },
  {
   "cell_type": "code",
   "execution_count": 34,
   "metadata": {},
   "outputs": [
    {
     "data": {
      "text/plain": [
       "'test_output_new.mid'"
      ]
     },
     "execution_count": 34,
     "metadata": {},
     "output_type": "execute_result"
    }
   ],
   "source": [
    "#  Create a Steam Object from our generated Notes, and write to the file. \n",
    "midi_stream = stream.Stream(output_notes)\n",
    "midi_stream.write('midi', fp='test_output_new.mid')"
   ]
  },
  {
   "cell_type": "markdown",
   "metadata": {},
   "source": [
    "### Let's Play Our Music"
   ]
  },
  {
   "cell_type": "code",
   "execution_count": 35,
   "metadata": {},
   "outputs": [
    {
     "data": {
      "text/html": [
       "\n",
       "                <div id='midiPlayerDiv152604'></div>\n",
       "                <link rel=\"stylesheet\" href=\"//cuthbertLab.github.io/music21j/css/m21.css\"\n",
       "                    type=\"text/css\" />\n",
       "                <script>\n",
       "                require.config({\n",
       "                    paths: {'music21': '//cuthbertLab.github.io/music21j/src/music21'}\n",
       "                });\n",
       "                require(['music21'], function() {\n",
       "                               mp = new music21.miditools.MidiPlayer();\n",
       "                               mp.addPlayer('#midiPlayerDiv152604');\n",
       "                               mp.base64Load('data:audio/midi;base64,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');\n",
       "                        });\n",
       "                </script>"
      ],
      "text/plain": [
       "<IPython.core.display.HTML object>"
      ]
     },
     "metadata": {},
     "output_type": "display_data"
    }
   ],
   "source": [
    "midi_stream.show('midi')"
   ]
  }
 ],
 "metadata": {
  "kernelspec": {
   "display_name": "Python 3",
   "language": "python",
   "name": "python3"
  },
  "language_info": {
   "codemirror_mode": {
    "name": "ipython",
    "version": 3
   },
   "file_extension": ".py",
   "mimetype": "text/x-python",
   "name": "python",
   "nbconvert_exporter": "python",
   "pygments_lexer": "ipython3",
   "version": "3.7.3"
  }
 },
 "nbformat": 4,
 "nbformat_minor": 2
}
