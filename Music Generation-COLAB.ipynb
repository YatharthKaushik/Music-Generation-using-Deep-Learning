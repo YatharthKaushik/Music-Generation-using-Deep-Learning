{
 "cells": [
  {
   "cell_type": "code",
   "execution_count": 3,
   "metadata": {
    "colab": {
     "base_uri": "https://localhost:8080/",
     "height": 34
    },
    "colab_type": "code",
    "id": "8GyKx48mwpGc",
    "outputId": "13980d78-63b7-4656-fca7-d526500acad2"
   },
   "outputs": [],
   "source": [
    "import glob\n",
    "import pickle\n",
    "import numpy\n",
    "from music21 import converter, instrument, note, chord, stream\n",
    "from keras.models import Sequential, load_model\n",
    "from keras.layers import Dense\n",
    "from keras.layers import Dropout\n",
    "from keras.layers import LSTM\n",
    "from keras.layers import Activation\n",
    "from keras.utils import np_utils\n",
    "from keras.callbacks import ModelCheckpoint, EarlyStopping"
   ]
  },
  {
   "cell_type": "markdown",
   "metadata": {},
   "source": [
    "# Get Notes from Music Files"
   ]
  },
  {
   "cell_type": "code",
   "execution_count": 4,
   "metadata": {
    "colab": {
     "base_uri": "https://localhost:8080/",
     "height": 1000
    },
    "colab_type": "code",
    "id": "1OJh9Aqwwt6y",
    "outputId": "c78e1816-1a8b-4dee-ec62-4b5a462fdcbf"
   },
   "outputs": [
    {
     "name": "stdout",
     "output_type": "stream",
     "text": [
      "Parsing midi_songs/0fithos.mid\n",
      "Parsing midi_songs/FF3_Third_Phase_Final_(Piano).mid\n",
      "Parsing midi_songs/Kingdom_Hearts_Traverse_Town.mid\n",
      "Parsing midi_songs/ff7-mainmidi.mid\n",
      "Parsing midi_songs/relmstheme-piano.mid\n",
      "Parsing midi_songs/rufus.mid\n",
      "Parsing midi_songs/pkelite4.mid\n",
      "Parsing midi_songs/Rydia_pc.mid\n",
      "Parsing midi_songs/FFX_-_Ending_Theme_(Piano_Version)_-_by_Angel_FF.mid\n",
      "Parsing midi_songs/thoughts.mid\n",
      "Parsing midi_songs/JENOVA.mid\n",
      "Parsing midi_songs/lurk_in_dark.mid\n",
      "Parsing midi_songs/Life_Stream.mid\n",
      "Parsing midi_songs/ff4pclov.mid\n",
      "Parsing midi_songs/Ff7-One_Winged.mid\n",
      "Parsing midi_songs/decisive.mid\n",
      "Parsing midi_songs/electric_de_chocobo.mid\n",
      "Parsing midi_songs/z_aeristhemepiano.mid\n",
      "Parsing midi_songs/FF8_Shuffle_or_boogie_pc.mid\n",
      "Parsing midi_songs/FF6epitaph_piano.mid\n",
      "Parsing midi_songs/dayafter.mid\n",
      "Parsing midi_songs/HighwindTakestotheSkies.mid\n",
      "Parsing midi_songs/ff11_awakening_piano.mid\n",
      "Parsing midi_songs/In_Zanarkand.mid\n",
      "Parsing midi_songs/Gold_Silver_Rival_Battle.mid\n",
      "Parsing midi_songs/ff4-fight1.mid\n",
      "Parsing midi_songs/ff6shap.mid\n",
      "Parsing midi_songs/VincentPiano.mid\n",
      "Parsing midi_songs/FFVII_BATTLE.mid\n",
      "Parsing midi_songs/FF4.mid\n",
      "Parsing midi_songs/braska.mid\n",
      "Parsing midi_songs/FF3_Battle_(Piano).mid\n",
      "Parsing midi_songs/fortresscondor.mid\n",
      "Parsing midi_songs/AT.mid\n",
      "Parsing midi_songs/Cids.mid\n",
      "Parsing midi_songs/tpirtsd-piano.mid\n",
      "Parsing midi_songs/Ff7-Jenova_Absolute.mid\n",
      "Parsing midi_songs/ViviinAlexandria.mid\n",
      "Parsing midi_songs/mining.mid\n",
      "Parsing midi_songs/Ff4-BattleLust.mid\n",
      "Parsing midi_songs/costadsol.mid\n",
      "Parsing midi_songs/cosmo.mid\n",
      "Parsing midi_songs/Fyw_piano.mid\n",
      "Parsing midi_songs/redwings.mid\n",
      "Parsing midi_songs/FFIXQuMarshP.mid\n",
      "Parsing midi_songs/ff1battp.mid\n",
      "Parsing midi_songs/FFIII_Edgar_And_Sabin_Piano.mid\n",
      "Parsing midi_songs/DOS.mid\n",
      "Parsing midi_songs/8.mid\n",
      "Parsing midi_songs/Oppressed.mid\n",
      "Parsing midi_songs/traitor.mid\n",
      "Parsing midi_songs/ff4_piano_collections-main_theme.mid\n",
      "Parsing midi_songs/goldsaucer.mid\n",
      "Parsing midi_songs/Finalfantasy5gilgameshp.mid\n",
      "Parsing midi_songs/ultimafro.mid\n",
      "Parsing midi_songs/figaro.mid\n",
      "Parsing midi_songs/Suteki_Da_Ne_(Piano_Version).mid\n",
      "Parsing midi_songs/ultros.mid\n",
      "Parsing midi_songs/tifap.mid\n",
      "Parsing midi_songs/ff4-town.mid\n",
      "Parsing midi_songs/caitsith.mid\n",
      "Parsing midi_songs/Final_Fantasy_7_-_Judgement_Day_Piano.mid\n",
      "Parsing midi_songs/ff4-airship.mid\n",
      "Parsing midi_songs/gerudo.mid\n",
      "Parsing midi_songs/dontbeafraid.mid\n",
      "Parsing midi_songs/roseofmay-piano.mid\n",
      "Parsing midi_songs/FFIX_Piano.mid\n",
      "Parsing midi_songs/Fiend_Battle_(Piano).mid\n",
      "Parsing midi_songs/Ff7-Cinco.mid\n",
      "Parsing midi_songs/OTD5YA.mid\n",
      "Parsing midi_songs/EyesOnMePiano.mid\n",
      "Parsing midi_songs/great_war.mid\n",
      "Parsing midi_songs/ff8-lfp.mid\n",
      "Parsing midi_songs/Kingdom_Hearts_Dearly_Beloved.mid\n",
      "Parsing midi_songs/balamb.mid\n",
      "Parsing midi_songs/waltz_de_choco.mid\n",
      "Parsing midi_songs/Finalfantasy6fanfarecomplete.mid\n",
      "Parsing midi_songs/bcm.mid\n",
      "Parsing midi_songs/Fierce_Battle_(Piano).mid\n",
      "Parsing midi_songs/Final_Fantasy_Matouyas_Cave_Piano.mid\n",
      "Parsing midi_songs/BlueStone_LastDungeon.mid\n",
      "Parsing midi_songs/Still_Alive-1.mid\n",
      "Parsing midi_songs/Rachel_Piano_tempofix.mid\n",
      "Parsing midi_songs/thenightmarebegins.mid\n",
      "Parsing midi_songs/Zelda_Overworld.mid\n",
      "Parsing midi_songs/sandy.mid\n",
      "Parsing midi_songs/ff7themep.mid\n",
      "Parsing midi_songs/sobf.mid\n",
      "Parsing midi_songs/sera_.mid\n",
      "Parsing midi_songs/path_of_repentance.mid\n",
      "Parsing midi_songs/Eternal_Harvest.mid\n",
      "Parsing midi_songs/ahead_on_our_way_piano.mid\n"
     ]
    }
   ],
   "source": [
    "notes = []\n",
    "\n",
    "\n",
    "for file in glob.glob(\"midi_songs/*.mid\"):\n",
    "    midi = converter.parse(file) #convert the file into stream.Score Object\n",
    "\n",
    "    print(\"Parsing %s\" % file)\n",
    "\n",
    "    notes_to_parse = None\n",
    "\n",
    "\n",
    "    \n",
    "    \n",
    "    \n",
    "#     try: # file has instrument parts\n",
    "#         s2 = instrument.partitionByInstrument(midi)\n",
    "#         notes_to_parse = s2.parts[0].recurse() \n",
    "#     except: # file has notes in a flat structure\n",
    "#         notes_to_parse = midi.flat.notes\n",
    "    \n",
    "    \n",
    "    \n",
    "    \n",
    "    \n",
    "    # unroll / flat the elements (notes/chords) into the list, because elements are sometimes in list of list form.\n",
    "    notes_to_parse = midi.flat.notes   \n",
    "    \n",
    "    \n",
    "    \n",
    "    \n",
    "    # At this point, we have notes_to_parse, which is a Iterator for all the Notes/Chords\n",
    "    \n",
    "    \n",
    "    \n",
    "    \n",
    "    for element in notes_to_parse:\n",
    "        \n",
    "        # If the element is a Note, then store it's pitch\n",
    "        if isinstance(element, note.Note): \n",
    "            notes.append(str(element.pitch))\n",
    "            \n",
    "        # If the element is a Chord, split each note of the chord and join them with +\n",
    "        elif isinstance(element, chord.Chord): \n",
    "            notes.append('+'.join(str(n) for n in element.normalOrder))"
   ]
  },
  {
   "cell_type": "markdown",
   "metadata": {},
   "source": [
    "**Demo of Above Code with single File**"
   ]
  },
  {
   "cell_type": "code",
   "execution_count": 4,
   "metadata": {},
   "outputs": [],
   "source": [
    "midi = converter.parse(\"midi_songs/mining.mid\") #convert the file into stream.Score Object"
   ]
  },
  {
   "cell_type": "code",
   "execution_count": 5,
   "metadata": {},
   "outputs": [
    {
     "data": {
      "text/plain": [
       "<music21.stream.Score 0x16eea05bdd8>"
      ]
     },
     "execution_count": 5,
     "metadata": {},
     "output_type": "execute_result"
    }
   ],
   "source": [
    "midi"
   ]
  },
  {
   "cell_type": "code",
   "execution_count": 6,
   "metadata": {},
   "outputs": [],
   "source": [
    "notes_to_parse = midi.flat.notes"
   ]
  },
  {
   "cell_type": "code",
   "execution_count": 7,
   "metadata": {},
   "outputs": [
    {
     "data": {
      "text/plain": [
       "237"
      ]
     },
     "execution_count": 7,
     "metadata": {},
     "output_type": "execute_result"
    }
   ],
   "source": [
    "len(notes_to_parse)"
   ]
  },
  {
   "cell_type": "code",
   "execution_count": 8,
   "metadata": {},
   "outputs": [
    {
     "name": "stdout",
     "output_type": "stream",
     "text": [
      "<music21.chord.Chord D3 A3> 0.0\n",
      "<music21.chord.Chord E3 B3> 0.5\n",
      "<music21.note.Note B> 1.0\n",
      "<music21.note.Note B> 1.0\n",
      "<music21.chord.Chord D3 A3> 1.5\n",
      "<music21.chord.Chord E3 B3> 2.0\n",
      "<music21.chord.Chord D3 A3> 3.0\n",
      "<music21.chord.Chord E3 B3> 3.5\n",
      "<music21.note.Note B> 4.0\n",
      "<music21.chord.Chord D3 A3> 4.5\n",
      "<music21.chord.Chord E3 B3> 5.0\n",
      "<music21.chord.Chord D3 A3> 6.0\n",
      "<music21.chord.Chord E3 B3> 6.5\n",
      "<music21.note.Note B> 7.0\n",
      "<music21.note.Note B> 7.0\n",
      "<music21.chord.Chord D3 A3> 7.5\n",
      "<music21.chord.Chord E3 B3> 8.0\n",
      "<music21.chord.Chord D3 A3> 9.0\n",
      "<music21.chord.Chord E3 B3> 9.5\n",
      "<music21.note.Note B> 10.0\n",
      "<music21.chord.Chord D3 A3> 10.5\n",
      "<music21.chord.Chord E3 B3> 11.0\n",
      "<music21.note.Note G> 11.5\n",
      "<music21.note.Note A> 11.75\n",
      "<music21.note.Note B> 12.0\n",
      "<music21.chord.Chord D3 A3> 12.0\n",
      "<music21.chord.Chord E3 B3> 12.5\n",
      "<music21.note.Note B> 13.0\n",
      "<music21.chord.Chord D3 A3> 13.5\n",
      "<music21.chord.Chord E3 B3> 14.0\n",
      "<music21.note.Note A> 14.5\n",
      "<music21.note.Note G> 14.75\n",
      "<music21.note.Note F#> 15.0\n",
      "<music21.chord.Chord D3 A3> 15.0\n",
      "<music21.chord.Chord E3 B3> 15.5\n",
      "<music21.note.Note B> 16.0\n",
      "<music21.chord.Chord D3 A3> 16.5\n",
      "<music21.chord.Chord E3 B3> 17.0\n",
      "<music21.note.Note E> 17.5\n",
      "<music21.note.Note F#> 17.75\n",
      "<music21.note.Note G> 18.0\n",
      "<music21.chord.Chord D3 A3> 18.0\n",
      "<music21.chord.Chord E3 B3> 18.5\n",
      "<music21.note.Note B> 19.0\n",
      "<music21.chord.Chord D3 A3> 19.5\n",
      "<music21.chord.Chord E3 B3> 20.0\n",
      "<music21.chord.Chord D3 A3> 21.0\n",
      "<music21.note.Note E> 21.25\n",
      "<music21.note.Note G> 21.5\n",
      "<music21.chord.Chord E3 B3> 21.5\n",
      "<music21.note.Note B> 21.75\n",
      "<music21.note.Note A> 22.0\n",
      "<music21.note.Note B> 22.0\n",
      "<music21.note.Note E> 22.25\n",
      "<music21.note.Note G> 22.5\n",
      "<music21.chord.Chord D3 A3> 22.5\n",
      "<music21.note.Note B> 22.75\n",
      "<music21.note.Note A> 23.0\n",
      "<music21.chord.Chord E3 B3> 23.0\n",
      "<music21.note.Note G> 23.5\n",
      "<music21.note.Note A> 23.75\n",
      "<music21.note.Note B> 24.0\n",
      "<music21.chord.Chord D3 A3> 24.0\n",
      "<music21.chord.Chord E3 B3> 24.5\n",
      "<music21.note.Note B> 25.0\n",
      "<music21.chord.Chord D3 A3> 25.5\n",
      "<music21.chord.Chord E3 B3> 26.0\n",
      "<music21.note.Note A> 26.5\n",
      "<music21.note.Note G> 26.75\n",
      "<music21.note.Note F#> 27.0\n",
      "<music21.chord.Chord D3 A3> 27.0\n",
      "<music21.chord.Chord E3 B3> 27.5\n",
      "<music21.note.Note B> 28.0\n",
      "<music21.chord.Chord D3 A3> 28.5\n",
      "<music21.chord.Chord E3 B3> 29.0\n",
      "<music21.note.Note E> 29.5\n",
      "<music21.note.Note F#> 29.75\n",
      "<music21.note.Note G> 30.0\n",
      "<music21.chord.Chord D3 A3> 30.0\n",
      "<music21.chord.Chord E3 B3> 30.5\n",
      "<music21.note.Note B> 31.0\n",
      "<music21.chord.Chord D3 A3> 31.5\n",
      "<music21.chord.Chord E3 B3> 32.0\n",
      "<music21.chord.Chord D3 A3> 33.0\n",
      "<music21.note.Note E> 33.25\n",
      "<music21.note.Note G> 33.5\n",
      "<music21.chord.Chord E3 B3> 33.5\n",
      "<music21.note.Note B> 33.75\n",
      "<music21.note.Note A> 34.0\n",
      "<music21.note.Note B> 34.0\n",
      "<music21.note.Note E> 34.25\n",
      "<music21.note.Note G> 34.5\n",
      "<music21.chord.Chord D3 A3> 34.5\n",
      "<music21.note.Note B> 34.75\n",
      "<music21.note.Note A> 35.0\n",
      "<music21.chord.Chord E3 B3> 35.0\n",
      "<music21.note.Note G> 35.5\n",
      "<music21.note.Note A> 35.75\n",
      "<music21.chord.Chord D3 A3> 36.0\n",
      "<music21.note.Note E> 36.25\n",
      "<music21.note.Note G> 36.5\n",
      "<music21.chord.Chord E3 B3> 36.5\n",
      "<music21.note.Note B> 36.75\n",
      "<music21.note.Note D> 37.0\n",
      "<music21.note.Note B> 37.0\n",
      "<music21.note.Note C#> 37.25\n",
      "<music21.note.Note B> 37.5\n",
      "<music21.chord.Chord D3 A3> 37.5\n",
      "<music21.note.Note A> 38.0\n",
      "<music21.chord.Chord E3 B3> 38.0\n",
      "<music21.note.Note C#> 38.25\n",
      "<music21.note.Note B> 38.5\n",
      "<music21.note.Note G> 39.0\n",
      "<music21.chord.Chord D3 A3> 39.0\n",
      "<music21.note.Note A> 39.5\n",
      "<music21.chord.Chord E3 B3> 39.5\n",
      "<music21.note.Note B> 40.0\n",
      "<music21.note.Note F#> 40.25\n",
      "<music21.note.Note G> 40.5\n",
      "<music21.chord.Chord D3 A3> 40.5\n",
      "<music21.note.Note F#> 41.0\n",
      "<music21.note.Note F> 41.0\n",
      "<music21.chord.Chord E3 B3> 41.0\n",
      "<music21.note.Note E> 41.25\n",
      "<music21.chord.Chord E4 G4> 42.0\n",
      "<music21.chord.Chord D3 A3> 42.0\n",
      "<music21.chord.Chord E3 B3> 42.5\n",
      "<music21.note.Note B> 43.0\n",
      "<music21.chord.Chord D4 F#4> 43.5\n",
      "<music21.chord.Chord D3 A3> 43.5\n",
      "<music21.chord.Chord E3 B3> 44.0\n",
      "<music21.chord.Chord C#4 E4> 45.0\n",
      "<music21.chord.Chord D3 A3> 45.0\n",
      "<music21.chord.Chord E3 B3> 45.5\n",
      "<music21.note.Note B> 46.0\n",
      "<music21.chord.Chord D3 A3> 46.5\n",
      "<music21.chord.Chord E3 B3> 47.0\n",
      "<music21.chord.Chord D3 A3> 48.0\n",
      "<music21.note.Note E> 48.25\n",
      "<music21.note.Note G> 48.5\n",
      "<music21.chord.Chord E3 B3> 48.5\n",
      "<music21.note.Note B> 48.75\n",
      "<music21.note.Note D> 49.0\n",
      "<music21.note.Note B> 49.0\n",
      "<music21.note.Note C#> 49.25\n",
      "<music21.note.Note B> 49.5\n",
      "<music21.chord.Chord D3 A3> 49.5\n",
      "<music21.note.Note A> 50.0\n",
      "<music21.chord.Chord E3 B3> 50.0\n",
      "<music21.note.Note C#> 50.25\n",
      "<music21.note.Note B> 50.5\n",
      "<music21.note.Note G> 51.0\n",
      "<music21.chord.Chord D3 A3> 51.0\n",
      "<music21.note.Note A> 51.5\n",
      "<music21.chord.Chord E3 B3> 51.5\n",
      "<music21.note.Note B> 52.0\n",
      "<music21.note.Note F#> 52.25\n",
      "<music21.note.Note G> 52.5\n",
      "<music21.chord.Chord D3 A3> 52.5\n",
      "<music21.note.Note F#> 53.0\n",
      "<music21.note.Note F> 53.0\n",
      "<music21.chord.Chord E3 B3> 53.0\n",
      "<music21.note.Note E> 53.25\n",
      "<music21.chord.Chord E4 G4> 54.0\n",
      "<music21.chord.Chord D3 A3> 54.0\n",
      "<music21.chord.Chord E3 B3> 54.5\n",
      "<music21.note.Note B> 55.0\n",
      "<music21.chord.Chord D4 F#4> 55.5\n",
      "<music21.chord.Chord D3 A3> 55.5\n",
      "<music21.chord.Chord E3 B3> 56.0\n",
      "<music21.chord.Chord G4 B4> 57.0\n",
      "<music21.chord.Chord D3 A3> 57.0\n",
      "<music21.chord.Chord E3 B3> 57.5\n",
      "<music21.note.Note B> 58.0\n",
      "<music21.chord.Chord D3 A3> 58.5\n",
      "<music21.chord.Chord E3 B3> 59.0\n",
      "<music21.note.Note A> 59.5\n",
      "<music21.note.Note B> 59.75\n",
      "<music21.note.Note C> 60.0\n",
      "<music21.chord.Chord E3 A3> 60.0\n",
      "<music21.chord.Chord F3 C4> 60.5\n",
      "<music21.note.Note C> 61.0\n",
      "<music21.chord.Chord E3 A3> 61.5\n",
      "<music21.chord.Chord F3 C4> 62.0\n",
      "<music21.note.Note B> 62.5\n",
      "<music21.note.Note A> 62.75\n",
      "<music21.note.Note G> 63.0\n",
      "<music21.chord.Chord D3 A3> 63.0\n",
      "<music21.chord.Chord E3 B3> 63.5\n",
      "<music21.note.Note B> 64.0\n",
      "<music21.chord.Chord D3 A3> 64.5\n",
      "<music21.chord.Chord E3 B3> 65.0\n",
      "<music21.note.Note B> 65.5\n",
      "<music21.note.Note C#> 65.75\n",
      "<music21.note.Note D> 66.0\n",
      "<music21.chord.Chord D3 B3> 66.0\n",
      "<music21.chord.Chord F#3 D4> 66.5\n",
      "<music21.chord.Chord B2 F#3> 67.0\n",
      "<music21.chord.Chord D3 B3> 67.5\n",
      "<music21.chord.Chord F#3 C4> 68.0\n",
      "<music21.note.Note C#> 68.5\n",
      "<music21.note.Note B> 68.75\n",
      "<music21.note.Note A> 69.0\n",
      "<music21.chord.Chord E-3 A3> 69.0\n",
      "<music21.chord.Chord F#3 C#4> 69.5\n",
      "<music21.chord.Chord A2 F#3> 70.0\n",
      "<music21.chord.Chord C#3 A3> 70.5\n",
      "<music21.chord.Chord F#3 C#4> 71.0\n",
      "<music21.note.Note A> 71.5\n",
      "<music21.note.Note B> 71.75\n",
      "<music21.note.Note C> 72.0\n",
      "<music21.chord.Chord E3 A3> 72.0\n",
      "<music21.chord.Chord F3 C4> 72.5\n",
      "<music21.note.Note C> 73.0\n",
      "<music21.chord.Chord E3 A3> 73.5\n",
      "<music21.chord.Chord F3 C4> 74.0\n",
      "<music21.note.Note B> 74.5\n",
      "<music21.note.Note A> 74.75\n",
      "<music21.note.Note G> 75.0\n",
      "<music21.chord.Chord E3 A3> 75.0\n",
      "<music21.chord.Chord F3 C4> 75.5\n",
      "<music21.chord.Chord C3 E3> 76.0\n",
      "<music21.chord.Chord D3 G3> 76.5\n",
      "<music21.chord.Chord E3 C4> 77.0\n",
      "<music21.note.Note E> 77.5\n",
      "<music21.note.Note G> 77.75\n",
      "<music21.note.Note F#> 78.0\n",
      "<music21.chord.Chord D3 A3> 78.0\n",
      "<music21.chord.Chord E3 B3> 78.5\n",
      "<music21.chord.Chord B2 F#3> 79.0\n",
      "<music21.chord.Chord D3 A3> 79.5\n",
      "<music21.chord.Chord E3 B3> 80.0\n",
      "<music21.chord.Chord D3 A3> 81.0\n",
      "<music21.chord.Chord E3 B3> 81.5\n",
      "<music21.chord.Chord B2 F#3> 82.0\n",
      "<music21.chord.Chord D3 A3> 82.5\n",
      "<music21.chord.Chord E3 B3> 83.0\n"
     ]
    }
   ],
   "source": [
    "#  Here offset is 0.5 everytime\n",
    "for i in notes_to_parse:\n",
    "    print(i, i.offset)"
   ]
  },
  {
   "cell_type": "code",
   "execution_count": 9,
   "metadata": {},
   "outputs": [],
   "source": [
    "notes_demo= []\n",
    "for element in notes_to_parse:\n",
    "    # If the element is a Note, then store it's pitch\n",
    "    if isinstance(element, note.Note): \n",
    "        notes_demo.append(str(element.pitch))\n",
    "\n",
    "    # If the element is a Chord, split each note of the chord and join them with dot\n",
    "    elif isinstance(element, chord.Chord): \n",
    "        notes_demo.append('+'.join(str(n) for n in element.normalOrder))"
   ]
  },
  {
   "cell_type": "code",
   "execution_count": 10,
   "metadata": {},
   "outputs": [
    {
     "name": "stdout",
     "output_type": "stream",
     "text": [
      "['9+2', '11+4', 'B5', 'B2', '9+2', '11+4', '9+2', '11+4', 'B2', '9+2', '11+4', '9+2', '11+4', 'B5', 'B2']\n"
     ]
    }
   ],
   "source": [
    "# got the notes and chords\n",
    "print(notes_demo[:15])"
   ]
  },
  {
   "cell_type": "code",
   "execution_count": 0,
   "metadata": {
    "colab": {},
    "colab_type": "code",
    "id": "nGnWYnrKxUsg"
   },
   "outputs": [],
   "source": [
    "with open('data/notes_easy', 'wb') as filepath:\n",
    "    pickle.dump(notes, filepath)"
   ]
  },
  {
   "cell_type": "code",
   "execution_count": 41,
   "metadata": {
    "colab": {},
    "colab_type": "code",
    "id": "RGB1lW-VdLnj"
   },
   "outputs": [],
   "source": [
    "with open('data/notes_easy', 'rb') as filepath:\n",
    "    notes = pickle.load(filepath)"
   ]
  },
  {
   "cell_type": "code",
   "execution_count": 12,
   "metadata": {
    "colab": {},
    "colab_type": "code",
    "id": "P9sW967FdNkL"
   },
   "outputs": [],
   "source": [
    "n_vocab = len(set(notes))"
   ]
  },
  {
   "cell_type": "code",
   "execution_count": 13,
   "metadata": {
    "colab": {
     "base_uri": "https://localhost:8080/",
     "height": 51
    },
    "colab_type": "code",
    "id": "XI6jXz6KdPhT",
    "outputId": "08c5fbbf-2625-40f1-ad4a-754a394facb2"
   },
   "outputs": [
    {
     "name": "stdout",
     "output_type": "stream",
     "text": [
      "Total notes-  60498\n",
      "Unique Notes-  359\n"
     ]
    }
   ],
   "source": [
    "print(\"Total notes- \",len(notes))\n",
    "print(\"Unique Notes- \",n_vocab)"
   ]
  },
  {
   "cell_type": "code",
   "execution_count": 14,
   "metadata": {
    "colab": {
     "base_uri": "https://localhost:8080/",
     "height": 54
    },
    "colab_type": "code",
    "id": "zuXrKEGSdRws",
    "outputId": "586ca0b0-0901-40df-b90a-f886227e7b59"
   },
   "outputs": [
    {
     "name": "stdout",
     "output_type": "stream",
     "text": [
      "['4+9', 'E2', '4+9', '4+9', '4+9', '4+9', '4+9', '4+9', '4+9', '11+4', '4+9', '11+4', '4+9', '4+9', '4+9', '4+9', '4+9', '0+4', 'E2', '4+9', '0+4', '4+9', '4+9', '4+9', '4+9', '4+9', '9+2', '4+9', '9+2', '9+2', '4+9', '4+9', '4+9', '4+9', '4+9', '4+9', 'E2', '4+9', '4+9', '4+9', '4+9', '4+9', 'E5', 'F5', 'G#5', 'A5', '4+9', '4+9', '5+11', '4+9', '5+11', '4+9', '4+9', '4+9', 'E5', 'F5', 'G#5', 'A5', '4+9', '4+9', '9+0', 'E2', '4+9', '9+0', '4+9', '4+9', '4+9', 'E5', 'F5', 'G#5', 'A5', '4+9', '4+9', '11+2', '4+9', '11+2', '11+2', '4+9', '4+9', '4+9', 'E5', 'F5', 'G#5', 'A5', '4+9', '4+9', '3+7+11', 'E-2', '3+7+11', 'B2', 'G2', '1+5+9', 'F#2', '1+5+9', '3+7+11', 'E-2', '3+7+11', 'G2', 'B2', 'E-3']\n"
     ]
    }
   ],
   "source": [
    "# notes is a list of all the notes in each music file - 60000\n",
    "print(notes[:100])"
   ]
  },
  {
   "cell_type": "markdown",
   "metadata": {
    "colab_type": "text",
    "id": "RwCv2Kd0daHB"
   },
   "source": [
    "# Prepare Sequential Data for LSTM"
   ]
  },
  {
   "cell_type": "code",
   "execution_count": 15,
   "metadata": {
    "colab": {},
    "colab_type": "code",
    "id": "IPvnjjZNdUB5"
   },
   "outputs": [],
   "source": [
    "#  How many elements LSTM input should consider\n",
    "sequence_length = 100"
   ]
  },
  {
   "cell_type": "code",
   "execution_count": 16,
   "metadata": {
    "colab": {},
    "colab_type": "code",
    "id": "Miz0B0QLdlS0"
   },
   "outputs": [],
   "source": [
    "# ALl the unique elements in a sorted manner\n",
    "pitchnames = sorted(set(item for item in notes))"
   ]
  },
  {
   "cell_type": "code",
   "execution_count": 17,
   "metadata": {
    "colab": {
     "base_uri": "https://localhost:8080/",
     "height": 54
    },
    "colab_type": "code",
    "id": "UTm_K1Bhdmxz",
    "outputId": "bdd22e61-b49c-41ad-ccd5-6f35c4c7eb31"
   },
   "outputs": [
    {
     "name": "stdout",
     "output_type": "stream",
     "text": [
      "{'0': 0, '0+1': 1, '0+1+5': 2, '0+1+6': 3, '0+2': 4, '0+2+3+7': 5, '0+2+4+7': 6, '0+2+5': 7, '0+2+6': 8, '0+2+7': 9, '0+3': 10, '0+3+5': 11, '0+3+5+8': 12, '0+3+6': 13, '0+3+6+8': 14, '0+3+6+9': 15, '0+3+7': 16, '0+4': 17, '0+4+5': 18, '0+4+6': 19, '0+4+7': 20, '0+5': 21, '0+5+6': 22, '0+6': 23, '1': 24, '1+2': 25, '1+2+4+6+8+10': 26, '1+2+6': 27, '1+2+6+8': 28, '1+3': 29, '1+3+5': 30, '1+3+5+8': 31, '1+3+6': 32, '1+3+7': 33, '1+3+8': 34, '1+4': 35, '1+4+6': 36, '1+4+6+9': 37, '1+4+7': 38, '1+4+7+10': 39, '1+4+7+9': 40, '1+4+8': 41, '1+5': 42, '1+5+8': 43, '1+5+9': 44, '1+6': 45, '1+7': 46, '10': 47, '10+0': 48, '10+0+2+5': 49, '10+0+3': 50, '10+0+4': 51, '10+0+5': 52, '10+1': 53, '10+1+3': 54, '10+1+3+5+6': 55, '10+1+3+6': 56, '10+1+4': 57, '10+1+4+6': 58, '10+1+5': 59, '10+11': 60, '10+11+3': 61, '10+11+3+5': 62, '10+2': 63, '10+2+3': 64, '10+2+4': 65, '10+2+5': 66, '10+3': 67, '11': 68, '11+0': 69, '11+0+4': 70, '11+0+4+6': 71, '11+0+4+7': 72, '11+0+5': 73, '11+1': 74, '11+1+4': 75, '11+1+4+5': 76, '11+1+5': 77, '11+1+6': 78, '11+2': 79, '11+2+4': 80, '11+2+4+6': 81, '11+2+4+7': 82, '11+2+5': 83, '11+2+5+7': 84, '11+2+6': 85, '11+3': 86, '11+3+5': 87, '11+3+6': 88, '11+4': 89, '11+4+5': 90, '2': 91, '2+3': 92, '2+3+7': 93, '2+3+7+10': 94, '2+3+7+9': 95, '2+4': 96, '2+4+5': 97, '2+4+5+9': 98, '2+4+6+9+11': 99, '2+4+7': 100, '2+4+7+10': 101, '2+4+8': 102, '2+4+9': 103, '2+5': 104, '2+5+7': 105, '2+5+7+10': 106, '2+5+8': 107, '2+5+8+10': 108, '2+5+8+11': 109, '2+5+9': 110, '2+6': 111, '2+6+10': 112, '2+6+7': 113, '2+6+7+9': 114, '2+6+9': 115, '2+7': 116, '2+7+8': 117, '2+8': 118, '3': 119, '3+4': 120, '3+4+8': 121, '3+4+8+10': 122, '3+5': 123, '3+5+10': 124, '3+5+7': 125, '3+5+7+10': 126, '3+5+7+8+11': 127, '3+5+8': 128, '3+5+8+11': 129, '3+6': 130, '3+6+10': 131, '3+6+7': 132, '3+6+8': 133, '3+6+9+11': 134, '3+7': 135, '3+7+10': 136, '3+7+11': 137, '3+7+9': 138, '3+7+9+10': 139, '3+8': 140, '3+8+9': 141, '3+9': 142, '4': 143, '4+10': 144, '4+5': 145, '4+5+7+11': 146, '4+5+9': 147, '4+5+9+0': 148, '4+5+9+11': 149, '4+6': 150, '4+6+10': 151, '4+6+11': 152, '4+6+7': 153, '4+6+8': 154, '4+6+8+11+1': 155, '4+6+9': 156, '4+6+9+11': 157, '4+7': 158, '4+7+10': 159, '4+7+11': 160, '4+7+9': 161, '4+7+9+0': 162, '4+7+9+11': 163, '4+8': 164, '4+8+10': 165, '4+8+11': 166, '4+8+9': 167, '4+8+9+11': 168, '4+9': 169, '4+9+10': 170, '5': 171, '5+10': 172, '5+10+11': 173, '5+11': 174, '5+6': 175, '5+7': 176, '5+7+0': 177, '5+7+10': 178, '5+7+8+0': 179, '5+8': 180, '5+8+0': 181, '5+8+10': 182, '5+8+11': 183, '5+9': 184, '5+9+0': 185, '5+9+11': 186, '5+9+11+0': 187, '6': 188, '6+10': 189, '6+10+0': 190, '6+10+1': 191, '6+10+11': 192, '6+10+11+1': 193, '6+11': 194, '6+11+0': 195, '6+7': 196, '6+7+0': 197, '6+7+11': 198, '6+7+11+2': 199, '6+8': 200, '6+8+0': 201, '6+8+1': 202, '6+8+10': 203, '6+8+10+0+3': 204, '6+8+11': 205, '6+8+11+2': 206, '6+9': 207, '6+9+0': 208, '6+9+0+2': 209, '6+9+1': 210, '6+9+11': 211, '6+9+11+2': 212, '7': 213, '7+0': 214, '7+10': 215, '7+10+0': 216, '7+10+0+3': 217, '7+10+1': 218, '7+10+1+3': 219, '7+10+2': 220, '7+11': 221, '7+11+0': 222, '7+11+2': 223, '7+8': 224, '7+8+0': 225, '7+8+0+3': 226, '7+8+10+2': 227, '7+8+11': 228, '7+9': 229, '7+9+0': 230, '7+9+1': 231, '7+9+11': 232, '7+9+11+2': 233, '7+9+2': 234, '8': 235, '8+0': 236, '8+0+1': 237, '8+0+2': 238, '8+0+3': 239, '8+1': 240, '8+10': 241, '8+10+0': 242, '8+10+1': 243, '8+10+11+1+4': 244, '8+10+11+3': 245, '8+10+2': 246, '8+10+3': 247, '8+11': 248, '8+11+1': 249, '8+11+1+4': 250, '8+11+2': 251, '8+11+3': 252, '8+9': 253, '8+9+1': 254, '8+9+1+3': 255, '8+9+1+4': 256, '8+9+11+1': 257, '8+9+2': 258, '9': 259, '9+0': 260, '9+0+2': 261, '9+0+2+4': 262, '9+0+2+5': 263, '9+0+3': 264, '9+0+3+5': 265, '9+0+4': 266, '9+1': 267, '9+1+4': 268, '9+10': 269, '9+10+2': 270, '9+10+2+4': 271, '9+11': 272, '9+11+0+4': 273, '9+11+1': 274, '9+11+2': 275, '9+11+2+4': 276, '9+11+2+5': 277, '9+11+3': 278, '9+11+4': 279, '9+2': 280, '9+2+3': 281, 'A0': 282, 'A1': 283, 'A2': 284, 'A3': 285, 'A4': 286, 'A5': 287, 'A6': 288, 'B-1': 289, 'B-2': 290, 'B-3': 291, 'B-4': 292, 'B-5': 293, 'B-6': 294, 'B0': 295, 'B1': 296, 'B2': 297, 'B3': 298, 'B4': 299, 'B5': 300, 'B6': 301, 'C#1': 302, 'C#2': 303, 'C#3': 304, 'C#4': 305, 'C#5': 306, 'C#6': 307, 'C#7': 308, 'C1': 309, 'C2': 310, 'C3': 311, 'C4': 312, 'C5': 313, 'C6': 314, 'C7': 315, 'D1': 316, 'D2': 317, 'D3': 318, 'D4': 319, 'D5': 320, 'D6': 321, 'D7': 322, 'E-1': 323, 'E-2': 324, 'E-3': 325, 'E-4': 326, 'E-5': 327, 'E-6': 328, 'E1': 329, 'E2': 330, 'E3': 331, 'E4': 332, 'E5': 333, 'E6': 334, 'F#1': 335, 'F#2': 336, 'F#3': 337, 'F#4': 338, 'F#5': 339, 'F#6': 340, 'F1': 341, 'F2': 342, 'F3': 343, 'F4': 344, 'F5': 345, 'F6': 346, 'G#1': 347, 'G#2': 348, 'G#3': 349, 'G#4': 350, 'G#5': 351, 'G#6': 352, 'G1': 353, 'G2': 354, 'G3': 355, 'G4': 356, 'G5': 357, 'G6': 358}\n"
     ]
    }
   ],
   "source": [
    "# Mapping between note to int value\n",
    "note_to_int = dict((note, number) for number, note in enumerate(pitchnames))\n",
    "print(note_to_int)"
   ]
  },
  {
   "cell_type": "code",
   "execution_count": 18,
   "metadata": {
    "colab": {},
    "colab_type": "code",
    "id": "hfiug-SDdoTa"
   },
   "outputs": [],
   "source": [
    "network_input = []\n",
    "network_output = []"
   ]
  },
  {
   "cell_type": "code",
   "execution_count": 19,
   "metadata": {
    "colab": {},
    "colab_type": "code",
    "id": "Xm4KzSQcdqgA"
   },
   "outputs": [],
   "source": [
    "# Make the data for LSTM Network\n",
    "# Each Node will contain 100 input units\n",
    "# Output will be the next unit in notes list\n",
    "\n",
    "for i in range(0, len(notes) - sequence_length, 1):\n",
    "    \n",
    "    sequence_in = notes[i:i + sequence_length] # contains 100 values \n",
    "    sequence_out = notes[i + sequence_length] # containes next values for these 100's\n",
    "    \n",
    "    # Since NN works with numeric data only, append the int values for inputs and outputs.\n",
    "    network_input.append([note_to_int[char] for char in sequence_in])\n",
    "    network_output.append(note_to_int[sequence_out])"
   ]
  },
  {
   "cell_type": "code",
   "execution_count": 20,
   "metadata": {
    "colab": {
     "base_uri": "https://localhost:8080/",
     "height": 34
    },
    "colab_type": "code",
    "id": "vIshFM_HdsVk",
    "outputId": "ea33050b-03b8-46e6-e823-f9b34914e2e2"
   },
   "outputs": [
    {
     "name": "stdout",
     "output_type": "stream",
     "text": [
      "60398\n"
     ]
    }
   ],
   "source": [
    "# No. of examples for our network\n",
    "\n",
    "n_patterns = len(network_input)\n",
    "print(n_patterns)"
   ]
  },
  {
   "cell_type": "code",
   "execution_count": 21,
   "metadata": {
    "colab": {
     "base_uri": "https://localhost:8080/",
     "height": 34
    },
    "colab_type": "code",
    "id": "m8OOfX4bduJV",
    "outputId": "971e08eb-e908-4adb-d32a-b83c806d965f"
   },
   "outputs": [
    {
     "name": "stdout",
     "output_type": "stream",
     "text": [
      "(60398, 100, 1)\n"
     ]
    }
   ],
   "source": [
    "# ight now network_input is lits, but reshape it into a format compatible with LSTM layers\n",
    "network_input = numpy.reshape(network_input, (n_patterns, sequence_length, 1))\n",
    "print(network_input.shape)"
   ]
  },
  {
   "cell_type": "code",
   "execution_count": 22,
   "metadata": {
    "colab": {},
    "colab_type": "code",
    "id": "uBNZWPfodv4P"
   },
   "outputs": [],
   "source": [
    "normalised_network_input = network_input/float(n_vocab)"
   ]
  },
  {
   "cell_type": "code",
   "execution_count": 23,
   "metadata": {
    "colab": {},
    "colab_type": "code",
    "id": "1rtXGfoxdxSk"
   },
   "outputs": [],
   "source": [
    "# network_output are the classes, encode one_hot_vector\n",
    "network_output = np_utils.to_categorical(network_output)"
   ]
  },
  {
   "cell_type": "code",
   "execution_count": 24,
   "metadata": {
    "colab": {
     "base_uri": "https://localhost:8080/",
     "height": 51
    },
    "colab_type": "code",
    "id": "Nyvhi9RFdzB3",
    "outputId": "4729cc94-9cc2-4ba4-ec52-cb85624aec43"
   },
   "outputs": [
    {
     "name": "stdout",
     "output_type": "stream",
     "text": [
      "(60398, 359)\n",
      "(60398, 100, 1)\n"
     ]
    }
   ],
   "source": [
    "print(network_output.shape)\n",
    "print(normalised_network_input.shape)"
   ]
  },
  {
   "cell_type": "markdown",
   "metadata": {
    "colab_type": "text",
    "id": "6WW-JVQ-d--S"
   },
   "source": [
    "# Create Model"
   ]
  },
  {
   "cell_type": "code",
   "execution_count": 25,
   "metadata": {
    "colab": {
     "base_uri": "https://localhost:8080/",
     "height": 309
    },
    "colab_type": "code",
    "id": "uH7xWxA3d0r8",
    "outputId": "8f1108cb-a6b5-42be-9a40-6f2d8831692b"
   },
   "outputs": [
    {
     "name": "stdout",
     "output_type": "stream",
     "text": [
      "WARNING:tensorflow:From C:\\Users\\Mohit Uniyal\\Anaconda3\\lib\\site-packages\\tensorflow\\python\\framework\\op_def_library.py:263: colocate_with (from tensorflow.python.framework.ops) is deprecated and will be removed in a future version.\n",
      "Instructions for updating:\n",
      "Colocations handled automatically by placer.\n",
      "WARNING:tensorflow:From C:\\Users\\Mohit Uniyal\\Anaconda3\\lib\\site-packages\\keras\\backend\\tensorflow_backend.py:3445: calling dropout (from tensorflow.python.ops.nn_ops) with keep_prob is deprecated and will be removed in a future version.\n",
      "Instructions for updating:\n",
      "Please use `rate` instead of `keep_prob`. Rate should be set to `rate = 1 - keep_prob`.\n"
     ]
    }
   ],
   "source": [
    "\"\"\" create the structure of the neural network \"\"\"\n",
    "model = Sequential()\n",
    "model.add(LSTM(512,\n",
    "            input_shape=(network_input.shape[1], network_input.shape[2]),\n",
    "            return_sequences=True ))\n",
    "model.add(Dropout(0.3))\n",
    "model.add(LSTM(512, return_sequences=True))\n",
    "model.add(Dropout(0.3))\n",
    "model.add(LSTM(512))\n",
    "model.add(Dense(256))\n",
    "model.add(Dropout(0.3))\n",
    "model.add(Dense(n_vocab))\n",
    "model.add(Activation('softmax'))\n",
    "model.compile(loss='categorical_crossentropy', optimizer='rmsprop')"
   ]
  },
  {
   "cell_type": "code",
   "execution_count": 26,
   "metadata": {
    "colab": {
     "base_uri": "https://localhost:8080/",
     "height": 442
    },
    "colab_type": "code",
    "id": "cf3rFS5PeG-D",
    "outputId": "099737e5-351a-4270-8dbe-a238c0936bb8"
   },
   "outputs": [
    {
     "name": "stdout",
     "output_type": "stream",
     "text": [
      "_________________________________________________________________\n",
      "Layer (type)                 Output Shape              Param #   \n",
      "=================================================================\n",
      "lstm_1 (LSTM)                (None, 100, 512)          1052672   \n",
      "_________________________________________________________________\n",
      "dropout_1 (Dropout)          (None, 100, 512)          0         \n",
      "_________________________________________________________________\n",
      "lstm_2 (LSTM)                (None, 100, 512)          2099200   \n",
      "_________________________________________________________________\n",
      "dropout_2 (Dropout)          (None, 100, 512)          0         \n",
      "_________________________________________________________________\n",
      "lstm_3 (LSTM)                (None, 512)               2099200   \n",
      "_________________________________________________________________\n",
      "dense_1 (Dense)              (None, 256)               131328    \n",
      "_________________________________________________________________\n",
      "dropout_3 (Dropout)          (None, 256)               0         \n",
      "_________________________________________________________________\n",
      "dense_2 (Dense)              (None, 359)               92263     \n",
      "_________________________________________________________________\n",
      "activation_1 (Activation)    (None, 359)               0         \n",
      "=================================================================\n",
      "Total params: 5,474,663\n",
      "Trainable params: 5,474,663\n",
      "Non-trainable params: 0\n",
      "_________________________________________________________________\n"
     ]
    }
   ],
   "source": [
    "model.summary()"
   ]
  },
  {
   "cell_type": "code",
   "execution_count": 22,
   "metadata": {
    "colab": {
     "base_uri": "https://localhost:8080/",
     "height": 1000
    },
    "colab_type": "code",
    "id": "0SElpa-7eJVI",
    "outputId": "f720a55d-2958-4d05-9087-73afb1a4920d"
   },
   "outputs": [
    {
     "name": "stderr",
     "output_type": "stream",
     "text": [
      "W0806 19:54:23.876171 140548401108864 deprecation.py:323] From /usr/local/lib/python3.6/dist-packages/tensorflow/python/ops/math_grad.py:1250: add_dispatch_support.<locals>.wrapper (from tensorflow.python.ops.array_ops) is deprecated and will be removed in a future version.\n",
      "Instructions for updating:\n",
      "Use tf.where in 2.0, which has the same broadcast rule as np.where\n"
     ]
    },
    {
     "name": "stdout",
     "output_type": "stream",
     "text": [
      "Epoch 1/100\n",
      "60398/60398 [==============================] - 396s 7ms/step - loss: 4.5791\n",
      "Epoch 2/100\n",
      "60398/60398 [==============================] - 395s 7ms/step - loss: 4.3746\n",
      "Epoch 3/100\n",
      "60398/60398 [==============================] - 408s 7ms/step - loss: 4.2257\n",
      "Epoch 4/100\n",
      "60398/60398 [==============================] - 390s 6ms/step - loss: 4.0589\n",
      "Epoch 5/100\n",
      "60398/60398 [==============================] - 388s 6ms/step - loss: 3.8828\n",
      "Epoch 6/100\n",
      "60398/60398 [==============================] - 391s 6ms/step - loss: 3.7038\n",
      "Epoch 7/100\n",
      "60398/60398 [==============================] - 393s 7ms/step - loss: 3.5276\n",
      "Epoch 8/100\n",
      "60398/60398 [==============================] - 391s 6ms/step - loss: 3.3695\n",
      "Epoch 9/100\n",
      "60398/60398 [==============================] - 390s 6ms/step - loss: 3.2217\n",
      "Epoch 10/100\n",
      "60398/60398 [==============================] - 389s 6ms/step - loss: 3.1012\n",
      "Epoch 11/100\n",
      "60398/60398 [==============================] - 390s 6ms/step - loss: 2.9938\n",
      "Epoch 12/100\n",
      "60398/60398 [==============================] - 389s 6ms/step - loss: 2.8901\n",
      "Epoch 13/100\n",
      "60398/60398 [==============================] - 388s 6ms/step - loss: 2.7849\n",
      "Epoch 14/100\n",
      "60398/60398 [==============================] - 387s 6ms/step - loss: 2.6820\n",
      "Epoch 15/100\n",
      "60398/60398 [==============================] - 387s 6ms/step - loss: 2.5859\n",
      "Epoch 16/100\n",
      "60398/60398 [==============================] - 389s 6ms/step - loss: 2.4840\n",
      "Epoch 17/100\n",
      "60398/60398 [==============================] - 387s 6ms/step - loss: 2.4027\n",
      "Epoch 18/100\n",
      "60398/60398 [==============================] - 396s 7ms/step - loss: 2.3168\n",
      "Epoch 19/100\n",
      "60398/60398 [==============================] - 414s 7ms/step - loss: 2.2417\n",
      "Epoch 20/100\n",
      "60398/60398 [==============================] - 394s 7ms/step - loss: 2.1657\n",
      "Epoch 21/100\n",
      "60398/60398 [==============================] - 393s 7ms/step - loss: 2.0959\n",
      "Epoch 22/100\n",
      "60398/60398 [==============================] - 393s 7ms/step - loss: 2.0328\n",
      "Epoch 23/100\n",
      "60398/60398 [==============================] - 392s 6ms/step - loss: 1.9626\n",
      "Epoch 24/100\n",
      "60398/60398 [==============================] - 392s 6ms/step - loss: 1.9078\n",
      "Epoch 25/100\n",
      "60398/60398 [==============================] - 392s 6ms/step - loss: 1.8401\n",
      "Epoch 26/100\n",
      "60398/60398 [==============================] - 391s 6ms/step - loss: 1.7939\n",
      "Epoch 27/100\n",
      "60398/60398 [==============================] - 394s 7ms/step - loss: 1.7501\n",
      "Epoch 28/100\n",
      "60398/60398 [==============================] - 389s 6ms/step - loss: 1.7031\n",
      "Epoch 29/100\n",
      "60398/60398 [==============================] - 388s 6ms/step - loss: 1.6666\n",
      "Epoch 30/100\n",
      "60398/60398 [==============================] - 388s 6ms/step - loss: 1.6233\n",
      "Epoch 31/100\n",
      "60398/60398 [==============================] - 389s 6ms/step - loss: 1.5940\n",
      "Epoch 32/100\n",
      "60398/60398 [==============================] - 389s 6ms/step - loss: 1.5583\n",
      "Epoch 33/100\n",
      "60398/60398 [==============================] - 390s 6ms/step - loss: 1.5182\n",
      "Epoch 34/100\n",
      "60398/60398 [==============================] - 390s 6ms/step - loss: 1.4896\n",
      "Epoch 35/100\n",
      "60398/60398 [==============================] - 386s 6ms/step - loss: 1.4556\n",
      "Epoch 36/100\n",
      "60398/60398 [==============================] - 394s 7ms/step - loss: 1.4356\n",
      "Epoch 37/100\n",
      "60398/60398 [==============================] - 389s 6ms/step - loss: 1.4342\n",
      "Epoch 38/100\n",
      "60398/60398 [==============================] - 390s 6ms/step - loss: 1.3966\n",
      "Epoch 39/100\n",
      "60398/60398 [==============================] - 388s 6ms/step - loss: 1.3738\n",
      "Epoch 40/100\n",
      "60398/60398 [==============================] - 387s 6ms/step - loss: 1.3415\n",
      "Epoch 41/100\n",
      "60398/60398 [==============================] - 386s 6ms/step - loss: 1.3266\n",
      "Epoch 42/100\n",
      "60398/60398 [==============================] - 387s 6ms/step - loss: 1.3081\n",
      "Epoch 43/100\n",
      "60398/60398 [==============================] - 386s 6ms/step - loss: 1.2935\n",
      "Epoch 44/100\n",
      "60398/60398 [==============================] - 386s 6ms/step - loss: 1.2781\n",
      "Epoch 45/100\n",
      "60398/60398 [==============================] - 386s 6ms/step - loss: 1.2678\n",
      "Epoch 46/100\n",
      "60398/60398 [==============================] - 387s 6ms/step - loss: 1.2520\n",
      "Epoch 47/100\n",
      "60398/60398 [==============================] - 386s 6ms/step - loss: 1.2335\n",
      "Epoch 48/100\n",
      "60398/60398 [==============================] - 388s 6ms/step - loss: 1.2168\n",
      "Epoch 49/100\n",
      "60398/60398 [==============================] - 386s 6ms/step - loss: 1.2059\n",
      "Epoch 50/100\n",
      "60398/60398 [==============================] - 386s 6ms/step - loss: 1.2030\n",
      "Epoch 51/100\n",
      "60398/60398 [==============================] - 385s 6ms/step - loss: 1.1949\n",
      "Epoch 52/100\n",
      "60398/60398 [==============================] - 385s 6ms/step - loss: 1.1781\n",
      "Epoch 53/100\n",
      "60398/60398 [==============================] - 385s 6ms/step - loss: 1.1655\n",
      "Epoch 54/100\n",
      "60398/60398 [==============================] - 385s 6ms/step - loss: 1.1659\n",
      "Epoch 55/100\n",
      "60398/60398 [==============================] - 385s 6ms/step - loss: 1.1648\n",
      "Epoch 56/100\n",
      "60398/60398 [==============================] - 386s 6ms/step - loss: 1.1560\n",
      "Epoch 57/100\n",
      "60398/60398 [==============================] - 385s 6ms/step - loss: 1.1449\n",
      "Epoch 58/100\n",
      "60398/60398 [==============================] - 385s 6ms/step - loss: 1.1465\n",
      "Epoch 59/100\n",
      "60398/60398 [==============================] - 384s 6ms/step - loss: 1.1415\n",
      "Epoch 60/100\n",
      "60398/60398 [==============================] - 384s 6ms/step - loss: 1.1406\n",
      "Epoch 61/100\n",
      "60398/60398 [==============================] - 384s 6ms/step - loss: 1.1601\n",
      "Epoch 62/100\n",
      "60398/60398 [==============================] - 385s 6ms/step - loss: 1.1494\n",
      "Epoch 63/100\n",
      "60398/60398 [==============================] - 385s 6ms/step - loss: 1.1506\n",
      "Epoch 64/100\n",
      "60398/60398 [==============================] - 385s 6ms/step - loss: 1.1718\n",
      "Epoch 65/100\n",
      "60398/60398 [==============================] - 385s 6ms/step - loss: 1.3110\n",
      "Epoch 66/100\n",
      "60398/60398 [==============================] - 385s 6ms/step - loss: 1.1916\n",
      "Epoch 67/100\n",
      "60398/60398 [==============================] - 386s 6ms/step - loss: 1.1861\n",
      "Epoch 68/100\n",
      "60398/60398 [==============================] - 386s 6ms/step - loss: 1.2047\n",
      "Epoch 69/100\n",
      "60398/60398 [==============================] - 386s 6ms/step - loss: 1.2184\n",
      "Epoch 70/100\n",
      "60398/60398 [==============================] - 386s 6ms/step - loss: 1.2231\n",
      "Epoch 71/100\n",
      "60398/60398 [==============================] - 386s 6ms/step - loss: 1.2347\n",
      "Epoch 72/100\n",
      "60398/60398 [==============================] - 387s 6ms/step - loss: 1.2338\n",
      "Epoch 73/100\n",
      "60398/60398 [==============================] - 385s 6ms/step - loss: 1.2660\n",
      "Epoch 74/100\n",
      "60398/60398 [==============================] - 386s 6ms/step - loss: 1.2764\n",
      "Epoch 75/100\n",
      "60398/60398 [==============================] - 386s 6ms/step - loss: 1.2589\n",
      "Epoch 76/100\n",
      "60398/60398 [==============================] - 386s 6ms/step - loss: 1.2685\n",
      "Epoch 77/100\n",
      "60398/60398 [==============================] - 386s 6ms/step - loss: 1.3194\n",
      "Epoch 78/100\n",
      "60398/60398 [==============================] - 386s 6ms/step - loss: 1.3659\n",
      "Epoch 79/100\n",
      "60398/60398 [==============================] - 386s 6ms/step - loss: 1.3574\n",
      "Epoch 80/100\n",
      "34496/60398 [================>.............] - ETA: 2:45 - loss: 1.4534"
     ]
    },
    {
     "ename": "KeyboardInterrupt",
     "evalue": "ignored",
     "output_type": "error",
     "traceback": [
      "\u001b[0;31m---------------------------------------------------------------------------\u001b[0m",
      "\u001b[0;31mKeyboardInterrupt\u001b[0m                         Traceback (most recent call last)",
      "\u001b[0;32m<ipython-input-22-be37774a5538>\u001b[0m in \u001b[0;36m<module>\u001b[0;34m()\u001b[0m\n\u001b[1;32m     12\u001b[0m \u001b[0mcallbacks_list\u001b[0m \u001b[0;34m=\u001b[0m \u001b[0;34m[\u001b[0m\u001b[0mcheckpoint\u001b[0m\u001b[0;34m]\u001b[0m\u001b[0;34m\u001b[0m\u001b[0;34m\u001b[0m\u001b[0m\n\u001b[1;32m     13\u001b[0m \u001b[0;34m\u001b[0m\u001b[0m\n\u001b[0;32m---> 14\u001b[0;31m \u001b[0mmodel_his\u001b[0m \u001b[0;34m=\u001b[0m \u001b[0mmodel\u001b[0m\u001b[0;34m.\u001b[0m\u001b[0mfit\u001b[0m\u001b[0;34m(\u001b[0m\u001b[0mnetwork_input\u001b[0m\u001b[0;34m,\u001b[0m \u001b[0mnetwork_output\u001b[0m\u001b[0;34m,\u001b[0m \u001b[0mepochs\u001b[0m\u001b[0;34m=\u001b[0m\u001b[0;36m100\u001b[0m\u001b[0;34m,\u001b[0m \u001b[0mbatch_size\u001b[0m\u001b[0;34m=\u001b[0m\u001b[0;36m64\u001b[0m\u001b[0;34m,\u001b[0m \u001b[0mcallbacks\u001b[0m\u001b[0;34m=\u001b[0m\u001b[0mcallbacks_list\u001b[0m\u001b[0;34m)\u001b[0m\u001b[0;34m\u001b[0m\u001b[0;34m\u001b[0m\u001b[0m\n\u001b[0m",
      "\u001b[0;32m/usr/local/lib/python3.6/dist-packages/keras/engine/training.py\u001b[0m in \u001b[0;36mfit\u001b[0;34m(self, x, y, batch_size, epochs, verbose, callbacks, validation_split, validation_data, shuffle, class_weight, sample_weight, initial_epoch, steps_per_epoch, validation_steps, **kwargs)\u001b[0m\n\u001b[1;32m   1037\u001b[0m                                         \u001b[0minitial_epoch\u001b[0m\u001b[0;34m=\u001b[0m\u001b[0minitial_epoch\u001b[0m\u001b[0;34m,\u001b[0m\u001b[0;34m\u001b[0m\u001b[0;34m\u001b[0m\u001b[0m\n\u001b[1;32m   1038\u001b[0m                                         \u001b[0msteps_per_epoch\u001b[0m\u001b[0;34m=\u001b[0m\u001b[0msteps_per_epoch\u001b[0m\u001b[0;34m,\u001b[0m\u001b[0;34m\u001b[0m\u001b[0;34m\u001b[0m\u001b[0m\n\u001b[0;32m-> 1039\u001b[0;31m                                         validation_steps=validation_steps)\n\u001b[0m\u001b[1;32m   1040\u001b[0m \u001b[0;34m\u001b[0m\u001b[0m\n\u001b[1;32m   1041\u001b[0m     def evaluate(self, x=None, y=None,\n",
      "\u001b[0;32m/usr/local/lib/python3.6/dist-packages/keras/engine/training_arrays.py\u001b[0m in \u001b[0;36mfit_loop\u001b[0;34m(model, f, ins, out_labels, batch_size, epochs, verbose, callbacks, val_f, val_ins, shuffle, callback_metrics, initial_epoch, steps_per_epoch, validation_steps)\u001b[0m\n\u001b[1;32m    197\u001b[0m                     \u001b[0mins_batch\u001b[0m\u001b[0;34m[\u001b[0m\u001b[0mi\u001b[0m\u001b[0;34m]\u001b[0m \u001b[0;34m=\u001b[0m \u001b[0mins_batch\u001b[0m\u001b[0;34m[\u001b[0m\u001b[0mi\u001b[0m\u001b[0;34m]\u001b[0m\u001b[0;34m.\u001b[0m\u001b[0mtoarray\u001b[0m\u001b[0;34m(\u001b[0m\u001b[0;34m)\u001b[0m\u001b[0;34m\u001b[0m\u001b[0;34m\u001b[0m\u001b[0m\n\u001b[1;32m    198\u001b[0m \u001b[0;34m\u001b[0m\u001b[0m\n\u001b[0;32m--> 199\u001b[0;31m                 \u001b[0mouts\u001b[0m \u001b[0;34m=\u001b[0m \u001b[0mf\u001b[0m\u001b[0;34m(\u001b[0m\u001b[0mins_batch\u001b[0m\u001b[0;34m)\u001b[0m\u001b[0;34m\u001b[0m\u001b[0;34m\u001b[0m\u001b[0m\n\u001b[0m\u001b[1;32m    200\u001b[0m                 \u001b[0mouts\u001b[0m \u001b[0;34m=\u001b[0m \u001b[0mto_list\u001b[0m\u001b[0;34m(\u001b[0m\u001b[0mouts\u001b[0m\u001b[0;34m)\u001b[0m\u001b[0;34m\u001b[0m\u001b[0;34m\u001b[0m\u001b[0m\n\u001b[1;32m    201\u001b[0m                 \u001b[0;32mfor\u001b[0m \u001b[0ml\u001b[0m\u001b[0;34m,\u001b[0m \u001b[0mo\u001b[0m \u001b[0;32min\u001b[0m \u001b[0mzip\u001b[0m\u001b[0;34m(\u001b[0m\u001b[0mout_labels\u001b[0m\u001b[0;34m,\u001b[0m \u001b[0mouts\u001b[0m\u001b[0;34m)\u001b[0m\u001b[0;34m:\u001b[0m\u001b[0;34m\u001b[0m\u001b[0;34m\u001b[0m\u001b[0m\n",
      "\u001b[0;32m/usr/local/lib/python3.6/dist-packages/keras/backend/tensorflow_backend.py\u001b[0m in \u001b[0;36m__call__\u001b[0;34m(self, inputs)\u001b[0m\n\u001b[1;32m   2713\u001b[0m                 \u001b[0;32mreturn\u001b[0m \u001b[0mself\u001b[0m\u001b[0;34m.\u001b[0m\u001b[0m_legacy_call\u001b[0m\u001b[0;34m(\u001b[0m\u001b[0minputs\u001b[0m\u001b[0;34m)\u001b[0m\u001b[0;34m\u001b[0m\u001b[0;34m\u001b[0m\u001b[0m\n\u001b[1;32m   2714\u001b[0m \u001b[0;34m\u001b[0m\u001b[0m\n\u001b[0;32m-> 2715\u001b[0;31m             \u001b[0;32mreturn\u001b[0m \u001b[0mself\u001b[0m\u001b[0;34m.\u001b[0m\u001b[0m_call\u001b[0m\u001b[0;34m(\u001b[0m\u001b[0minputs\u001b[0m\u001b[0;34m)\u001b[0m\u001b[0;34m\u001b[0m\u001b[0;34m\u001b[0m\u001b[0m\n\u001b[0m\u001b[1;32m   2716\u001b[0m         \u001b[0;32melse\u001b[0m\u001b[0;34m:\u001b[0m\u001b[0;34m\u001b[0m\u001b[0;34m\u001b[0m\u001b[0m\n\u001b[1;32m   2717\u001b[0m             \u001b[0;32mif\u001b[0m \u001b[0mpy_any\u001b[0m\u001b[0;34m(\u001b[0m\u001b[0mis_tensor\u001b[0m\u001b[0;34m(\u001b[0m\u001b[0mx\u001b[0m\u001b[0;34m)\u001b[0m \u001b[0;32mfor\u001b[0m \u001b[0mx\u001b[0m \u001b[0;32min\u001b[0m \u001b[0minputs\u001b[0m\u001b[0;34m)\u001b[0m\u001b[0;34m:\u001b[0m\u001b[0;34m\u001b[0m\u001b[0;34m\u001b[0m\u001b[0m\n",
      "\u001b[0;32m/usr/local/lib/python3.6/dist-packages/keras/backend/tensorflow_backend.py\u001b[0m in \u001b[0;36m_call\u001b[0;34m(self, inputs)\u001b[0m\n\u001b[1;32m   2673\u001b[0m             \u001b[0mfetched\u001b[0m \u001b[0;34m=\u001b[0m \u001b[0mself\u001b[0m\u001b[0;34m.\u001b[0m\u001b[0m_callable_fn\u001b[0m\u001b[0;34m(\u001b[0m\u001b[0;34m*\u001b[0m\u001b[0marray_vals\u001b[0m\u001b[0;34m,\u001b[0m \u001b[0mrun_metadata\u001b[0m\u001b[0;34m=\u001b[0m\u001b[0mself\u001b[0m\u001b[0;34m.\u001b[0m\u001b[0mrun_metadata\u001b[0m\u001b[0;34m)\u001b[0m\u001b[0;34m\u001b[0m\u001b[0;34m\u001b[0m\u001b[0m\n\u001b[1;32m   2674\u001b[0m         \u001b[0;32melse\u001b[0m\u001b[0;34m:\u001b[0m\u001b[0;34m\u001b[0m\u001b[0;34m\u001b[0m\u001b[0m\n\u001b[0;32m-> 2675\u001b[0;31m             \u001b[0mfetched\u001b[0m \u001b[0;34m=\u001b[0m \u001b[0mself\u001b[0m\u001b[0;34m.\u001b[0m\u001b[0m_callable_fn\u001b[0m\u001b[0;34m(\u001b[0m\u001b[0;34m*\u001b[0m\u001b[0marray_vals\u001b[0m\u001b[0;34m)\u001b[0m\u001b[0;34m\u001b[0m\u001b[0;34m\u001b[0m\u001b[0m\n\u001b[0m\u001b[1;32m   2676\u001b[0m         \u001b[0;32mreturn\u001b[0m \u001b[0mfetched\u001b[0m\u001b[0;34m[\u001b[0m\u001b[0;34m:\u001b[0m\u001b[0mlen\u001b[0m\u001b[0;34m(\u001b[0m\u001b[0mself\u001b[0m\u001b[0;34m.\u001b[0m\u001b[0moutputs\u001b[0m\u001b[0;34m)\u001b[0m\u001b[0;34m]\u001b[0m\u001b[0;34m\u001b[0m\u001b[0;34m\u001b[0m\u001b[0m\n\u001b[1;32m   2677\u001b[0m \u001b[0;34m\u001b[0m\u001b[0m\n",
      "\u001b[0;32m/usr/local/lib/python3.6/dist-packages/tensorflow/python/client/session.py\u001b[0m in \u001b[0;36m__call__\u001b[0;34m(self, *args, **kwargs)\u001b[0m\n\u001b[1;32m   1456\u001b[0m         ret = tf_session.TF_SessionRunCallable(self._session._session,\n\u001b[1;32m   1457\u001b[0m                                                \u001b[0mself\u001b[0m\u001b[0;34m.\u001b[0m\u001b[0m_handle\u001b[0m\u001b[0;34m,\u001b[0m \u001b[0margs\u001b[0m\u001b[0;34m,\u001b[0m\u001b[0;34m\u001b[0m\u001b[0;34m\u001b[0m\u001b[0m\n\u001b[0;32m-> 1458\u001b[0;31m                                                run_metadata_ptr)\n\u001b[0m\u001b[1;32m   1459\u001b[0m         \u001b[0;32mif\u001b[0m \u001b[0mrun_metadata\u001b[0m\u001b[0;34m:\u001b[0m\u001b[0;34m\u001b[0m\u001b[0;34m\u001b[0m\u001b[0m\n\u001b[1;32m   1460\u001b[0m           \u001b[0mproto_data\u001b[0m \u001b[0;34m=\u001b[0m \u001b[0mtf_session\u001b[0m\u001b[0;34m.\u001b[0m\u001b[0mTF_GetBuffer\u001b[0m\u001b[0;34m(\u001b[0m\u001b[0mrun_metadata_ptr\u001b[0m\u001b[0;34m)\u001b[0m\u001b[0;34m\u001b[0m\u001b[0;34m\u001b[0m\u001b[0m\n",
      "\u001b[0;31mKeyboardInterrupt\u001b[0m: "
     ]
    }
   ],
   "source": [
    "\"\"\" train the neural network \"\"\"\n",
    "\n",
    "filepath = \"model/weights-improvement-{epoch:02d}-{loss:.4f}-bigger.hdf5\"\n",
    "\n",
    "checkpoint = ModelCheckpoint(\n",
    "    filepath,\n",
    "    monitor='loss',\n",
    "    verbose=0,\n",
    "    save_best_only=True,\n",
    "    mode='min')\n",
    "\n",
    "callbacks_list = [checkpoint]\n",
    "\n",
    "model_his = model.fit(network_input, network_output, epochs=100, batch_size=64, callbacks=callbacks_list)"
   ]
  },
  {
   "cell_type": "code",
   "execution_count": 27,
   "metadata": {
    "colab": {},
    "colab_type": "code",
    "id": "3QqR69Z-nUS0"
   },
   "outputs": [
    {
     "name": "stdout",
     "output_type": "stream",
     "text": [
      "WARNING:tensorflow:From C:\\Users\\Mohit Uniyal\\Anaconda3\\lib\\site-packages\\tensorflow\\python\\ops\\math_ops.py:3066: to_int32 (from tensorflow.python.ops.math_ops) is deprecated and will be removed in a future version.\n",
      "Instructions for updating:\n",
      "Use tf.cast instead.\n"
     ]
    }
   ],
   "source": [
    "model = load_model(\"model/weights-improvement-60-1.1406-bigger.hdf5\")"
   ]
  },
  {
   "cell_type": "markdown",
   "metadata": {
    "colab_type": "text",
    "id": "DLwpHZeEeiTQ"
   },
   "source": [
    "# Predictions"
   ]
  },
  {
   "cell_type": "code",
   "execution_count": 42,
   "metadata": {
    "colab": {},
    "colab_type": "code",
    "id": "-MNyxklJqxLd"
   },
   "outputs": [],
   "source": [
    "#  This is done beacuse we need network_input as list, and we had converted it into ndarray to feed into network\n",
    "#  so, to get back the list.\n",
    "\n",
    "sequence_length = 100\n",
    "network_input = []\n",
    "for i in range(0, len(notes) - sequence_length, 1):\n",
    "    sequence_in = notes[i:i + sequence_length]\n",
    "    network_input.append([note_to_int[char] for char in sequence_in])"
   ]
  },
  {
   "cell_type": "code",
   "execution_count": 62,
   "metadata": {
    "colab": {},
    "colab_type": "code",
    "id": "-lufH6280t6_"
   },
   "outputs": [],
   "source": [
    "\"\"\" Generate notes from the neural network based on a sequence of notes \"\"\"\n",
    "\n",
    "# pick a random sequence from the input as a starting point for the prediction\n",
    "start = numpy.random.randint(0, len(network_input)-1)\n",
    "\n",
    "# Mapping from int to note\n",
    "int_to_note = dict((number, note) for number, note in enumerate(pitchnames))\n",
    "\n",
    "# initial pattern\n",
    "pattern = network_input[start]\n",
    "prediction_output = []\n",
    "\n",
    "# generate 200 notes\n",
    "for note_index in range(200):\n",
    "    prediction_input = numpy.reshape(pattern, (1, len(pattern), 1))\n",
    "    prediction_input = prediction_input / float(n_vocab)\n",
    "\n",
    "    prediction = model.predict(prediction_input, verbose=0)\n",
    "\n",
    "    index = numpy.argmax(prediction)\n",
    "    result = int_to_note[index]\n",
    "    prediction_output.append(result)\n",
    "\n",
    "    \n",
    "    # Remove the first value, and append the recent value.. \n",
    "    # This way input is moving forward step-by-step with time..\n",
    "    pattern.append(index)\n",
    "    pattern = pattern[1:len(pattern)]"
   ]
  },
  {
   "cell_type": "code",
   "execution_count": 63,
   "metadata": {
    "colab": {
     "base_uri": "https://localhost:8080/",
     "height": 54
    },
    "colab_type": "code",
    "id": "HWgYST03zeHZ",
    "outputId": "7755e9fe-66bd-45bf-9123-0c3338496fd4"
   },
   "outputs": [
    {
     "name": "stdout",
     "output_type": "stream",
     "text": [
      "['F5', '2+5', '2+5', '0+5', '0+5', '0+5', '0+5', '0+5', '0+5', 'G5', 'G5', '2+5', '2+5', '2+5', '2+5', 'F5', '0+5', '2+5', '2+5', '2+5', '2+5', '0+5', '2+5', 'G5', '0+5', '0+4', '0+4', '2+5', '2+5', 'G5', '2+5', 'B4', '2+5', '2+5', 'G5', '0+5', '0+5', '0+5', 'B4', '2+5', '2+5', '2+5', '2+5', '0+5', '0+5', '0+5', '0+5', '0+5', '0+5', '0+5', 'F5', '2+5', '2+5', '2+5', '2+5', '2+5', '2+5', '2+5', '0+5', '2+5', '0+5', '0+5', '2+5', '0+5', '0+5', '0+5', 'C5', '0+5', 'C5', '2+5', '2+5', '2+5', '2+5', '0+5', '2+5', '0+5', '2+5', '0+5', '0+5', '0+5', '0+5', '0+5', '0+5', '0+5', 'F5', '0+5', 'G5', '0+5', '2+5', '0+5', '2+5', '2+5', '2+5', '2+5', '2+5', '2+5', '0+5', '2+5', 'B4', '0+5', '0+5', 'F#4', 'B-2', 'E-5', 'E3', 'B5', 'B4', 'G5', '0+5', '2+5', '0+5', 'B-2', 'B-2', 'B-2', '0+5', '0+5', 'F5', 'G5', '0+5', '0+5', '0+5', '0+5', '0+4', '0+5', 'E3', '0+5', '0+5', 'F5', '0+5', '2+5', '0+5', '0+5', '0+5', '0+5', '0+5', '9+0', '10+3', '10+3', 'E3', 'C3', 'E3', 'D2', 'B5', 'G5', 'G5', 'F5', 'G5', 'F5', 'G5', 'F5', '0+5', '0+5', '0+5', 'C3', 'E3', '9+0', 'E3', 'G5', 'G5', 'G5', 'G5', 'E-5', 'F5', 'F5', 'G5', 'G5', '0+5', 'E-5', '0+5', '0+5', '0+4', '0+5', '0+5', '0+5', '0+5', 'C5', '0+5', 'C5', 'C5', 'G3', '0+5', 'C5', 'C5', '0+5', '0+5', '0+5', '0+5', '0+5', '0+5', '0+5', '0+5', '0+5', '0+5', 'E5', '0+5', '0+5', 'B5', '0+5', '0+5', 'B4']\n"
     ]
    }
   ],
   "source": [
    "#  Our newly generated song (mix of chords and notes)\n",
    "print(prediction_output)"
   ]
  },
  {
   "cell_type": "markdown",
   "metadata": {
    "colab_type": "text",
    "id": "SIo5ee75n_BK"
   },
   "source": [
    "# Create Midi File"
   ]
  },
  {
   "cell_type": "code",
   "execution_count": 64,
   "metadata": {
    "colab": {},
    "colab_type": "code",
    "id": "kwDHedkrq7qg"
   },
   "outputs": [],
   "source": [
    "\"\"\" convert the output from the prediction to notes and create a midi file from the notes \"\"\"\n",
    "\n",
    "offset = 0 # Time\n",
    "output_notes = []\n",
    "\n",
    "# create note and chord objects based on the values generated by the model\n",
    "for pattern in prediction_output:\n",
    "    \n",
    "    # if pattern is a chord\n",
    "    if ('+' in pattern) or pattern.isdigit():\n",
    "        notes_in_chord = pattern.split('+') # split all the notes from a chord\n",
    "        notes = []\n",
    "        for current_note in notes_in_chord: \n",
    "            new_note = note.Note(int(current_note)) # create Note object for each note in the chord\n",
    "            new_note.storedInstrument = instrument.Piano() \n",
    "            notes.append(new_note) # list of Notes()\n",
    "            \n",
    "        new_chord = chord.Chord(notes)  # Create the Chord() from the list of notes.\n",
    "        new_chord.offset = offset # set offset to the element\n",
    "        output_notes.append(new_chord) \n",
    "        \n",
    "    # if pattern is a note\n",
    "    else:\n",
    "        new_note = note.Note(pattern) #  create Note object\n",
    "        new_note.offset = offset # set offset  (basically timestamp)\n",
    "        new_note.storedInstrument = instrument.Piano()\n",
    "        output_notes.append(new_note) \n",
    "\n",
    "    # increase offset each iteration so that notes do not stack (time stamp)\n",
    "    offset += 0.5"
   ]
  },
  {
   "cell_type": "code",
   "execution_count": 65,
   "metadata": {
    "colab": {
     "base_uri": "https://localhost:8080/",
     "height": 867
    },
    "colab_type": "code",
    "id": "VkF6JWlGzLI_",
    "outputId": "81ff032a-6440-4e92-a3d0-482526452433"
   },
   "outputs": [
    {
     "data": {
      "text/plain": [
       "[<music21.note.Note F>,\n",
       " <music21.chord.Chord D F>,\n",
       " <music21.chord.Chord D F>,\n",
       " <music21.chord.Chord C F>,\n",
       " <music21.chord.Chord C F>,\n",
       " <music21.chord.Chord C F>,\n",
       " <music21.chord.Chord C F>,\n",
       " <music21.chord.Chord C F>,\n",
       " <music21.chord.Chord C F>,\n",
       " <music21.note.Note G>,\n",
       " <music21.note.Note G>,\n",
       " <music21.chord.Chord D F>,\n",
       " <music21.chord.Chord D F>,\n",
       " <music21.chord.Chord D F>,\n",
       " <music21.chord.Chord D F>,\n",
       " <music21.note.Note F>,\n",
       " <music21.chord.Chord C F>,\n",
       " <music21.chord.Chord D F>,\n",
       " <music21.chord.Chord D F>,\n",
       " <music21.chord.Chord D F>,\n",
       " <music21.chord.Chord D F>,\n",
       " <music21.chord.Chord C F>,\n",
       " <music21.chord.Chord D F>,\n",
       " <music21.note.Note G>,\n",
       " <music21.chord.Chord C F>,\n",
       " <music21.chord.Chord C E>,\n",
       " <music21.chord.Chord C E>,\n",
       " <music21.chord.Chord D F>,\n",
       " <music21.chord.Chord D F>,\n",
       " <music21.note.Note G>,\n",
       " <music21.chord.Chord D F>,\n",
       " <music21.note.Note B>,\n",
       " <music21.chord.Chord D F>,\n",
       " <music21.chord.Chord D F>,\n",
       " <music21.note.Note G>,\n",
       " <music21.chord.Chord C F>,\n",
       " <music21.chord.Chord C F>,\n",
       " <music21.chord.Chord C F>,\n",
       " <music21.note.Note B>,\n",
       " <music21.chord.Chord D F>,\n",
       " <music21.chord.Chord D F>,\n",
       " <music21.chord.Chord D F>,\n",
       " <music21.chord.Chord D F>,\n",
       " <music21.chord.Chord C F>,\n",
       " <music21.chord.Chord C F>,\n",
       " <music21.chord.Chord C F>,\n",
       " <music21.chord.Chord C F>,\n",
       " <music21.chord.Chord C F>,\n",
       " <music21.chord.Chord C F>,\n",
       " <music21.chord.Chord C F>]"
      ]
     },
     "execution_count": 65,
     "metadata": {},
     "output_type": "execute_result"
    }
   ],
   "source": [
    "output_notes[:50]"
   ]
  },
  {
   "cell_type": "code",
   "execution_count": 69,
   "metadata": {
    "colab": {
     "base_uri": "https://localhost:8080/",
     "height": 34
    },
    "colab_type": "code",
    "id": "i79nbmR6zRRU",
    "outputId": "4257fc99-295a-462b-86f4-51c2763f99bb"
   },
   "outputs": [
    {
     "data": {
      "text/plain": [
       "'output_songs/test_output.mid'"
      ]
     },
     "execution_count": 69,
     "metadata": {},
     "output_type": "execute_result"
    }
   ],
   "source": [
    "#  Create a Steam Object from our generated Notes, and write to the file. \n",
    "midi_stream = stream.Stream(output_notes)\n",
    "midi_stream.write('midi', fp='output_songs/test_output.mid')"
   ]
  },
  {
   "cell_type": "markdown",
   "metadata": {},
   "source": [
    "### Let's Play Our Music"
   ]
  },
  {
   "cell_type": "code",
   "execution_count": 70,
   "metadata": {
    "colab": {
     "base_uri": "https://localhost:8080/",
     "height": 17
    },
    "colab_type": "code",
    "id": "i3NwSjHd3HjN",
    "outputId": "b5f6d32a-7932-4c02-9254-dfe86e95625d"
   },
   "outputs": [
    {
     "data": {
      "text/html": [
       "\n",
       "                <div id='midiPlayerDiv17896'></div>\n",
       "                <link rel=\"stylesheet\" href=\"//cuthbertLab.github.io/music21j/css/m21.css\"\n",
       "                    type=\"text/css\" />\n",
       "                <script>\n",
       "                require.config({\n",
       "                    paths: {'music21': '//cuthbertLab.github.io/music21j/src/music21'}\n",
       "                });\n",
       "                require(['music21'], function() {\n",
       "                               mp = new music21.miditools.MidiPlayer();\n",
       "                               mp.addPlayer('#midiPlayerDiv17896');\n",
       "                               mp.base64Load('data:audio/midi;base64,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');\n",
       "                        });\n",
       "                </script>"
      ],
      "text/plain": [
       "<IPython.core.display.HTML object>"
      ]
     },
     "metadata": {},
     "output_type": "display_data"
    }
   ],
   "source": [
    "midi_stream.show('midi')"
   ]
  }
 ],
 "metadata": {
  "accelerator": "GPU",
  "colab": {
   "name": "Music Generation.ipynb",
   "provenance": [],
   "version": "0.3.2"
  },
  "kernelspec": {
   "display_name": "Python 3",
   "language": "python",
   "name": "python3"
  },
  "language_info": {
   "codemirror_mode": {
    "name": "ipython",
    "version": 3
   },
   "file_extension": ".py",
   "mimetype": "text/x-python",
   "name": "python",
   "nbconvert_exporter": "python",
   "pygments_lexer": "ipython3",
   "version": "3.7.3"
  }
 },
 "nbformat": 4,
 "nbformat_minor": 1
}
