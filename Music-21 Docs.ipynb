{
 "cells": [
  {
   "cell_type": "code",
   "execution_count": 1,
   "metadata": {},
   "outputs": [],
   "source": [
    "from music21 import *"
   ]
  },
  {
   "cell_type": "code",
   "execution_count": 121,
   "metadata": {},
   "outputs": [
    {
     "data": {
      "text/plain": [
       "<music21.duration.Duration 2.0>"
      ]
     },
     "execution_count": 121,
     "metadata": {},
     "output_type": "execute_result"
    }
   ],
   "source": [
    "n = note.Note(\"D#3\")\n",
    "n.duration.type = 'half'\n",
    "# n.show()\n",
    "n.duration"
   ]
  },
  {
   "cell_type": "code",
   "execution_count": 30,
   "metadata": {},
   "outputs": [],
   "source": [
    "littlemelody = converter.parse(\"tinynotation: c4 d8 f g16 a g f#\")"
   ]
  },
  {
   "cell_type": "code",
   "execution_count": 31,
   "metadata": {},
   "outputs": [
    {
     "data": {
      "text/plain": [
       "<music21.duration.Duration 3.0>"
      ]
     },
     "execution_count": 31,
     "metadata": {},
     "output_type": "execute_result"
    }
   ],
   "source": [
    "littlemelody.duration"
   ]
  },
  {
   "cell_type": "code",
   "execution_count": 35,
   "metadata": {},
   "outputs": [
    {
     "data": {
      "text/html": [
       "\n",
       "                <div id='midiPlayerDiv878'></div>\n",
       "                <link rel=\"stylesheet\" href=\"//cuthbertLab.github.io/music21j/css/m21.css\"\n",
       "                    type=\"text/css\" />\n",
       "                <script>\n",
       "                require.config({\n",
       "                    paths: {'music21': '//cuthbertLab.github.io/music21j/src/music21'}\n",
       "                });\n",
       "                require(['music21'], function() {\n",
       "                               mp = new music21.miditools.MidiPlayer();\n",
       "                               mp.addPlayer('#midiPlayerDiv878');\n",
       "                               mp.base64Load('data:audio/midi;base64,TVRoZAAAAAYAAQABBABNVHJrAAAAVAD/AwAA4ABAAP9YBAQCGAgAkDxaiACAPAAAkD5ahACAPgAAkEFahACAQQAAkENaggCAQwAAkEVaggCARQAAkENaggCAQwAAkEJaggCAQgCIAP8vAA==');\n",
       "                        });\n",
       "                </script>"
      ],
      "text/plain": [
       "<IPython.core.display.HTML object>"
      ]
     },
     "metadata": {},
     "output_type": "display_data"
    }
   ],
   "source": [
    "littlemelody.show('midi')"
   ]
  },
  {
   "cell_type": "code",
   "execution_count": 38,
   "metadata": {},
   "outputs": [
    {
     "data": {
      "image/png": "[encoded data removed]",
      "text/plain": [
       "<Figure size 720x432 with 1 Axes>"
      ]
     },
     "metadata": {
      "image/png": {
       "height": 382,
       "width": 585
      }
     },
     "output_type": "display_data"
    }
   ],
   "source": [
    "dicant = corpus.parse('trecento/Fava_Dicant_nunc_iudei')\n",
    "dicant.plot('histogram', 'pitch')"
   ]
  },
  {
   "cell_type": "code",
   "execution_count": 42,
   "metadata": {},
   "outputs": [
    {
     "data": {
      "text/html": [
       "\n",
       "                <div id='midiPlayerDiv60694'></div>\n",
       "                <link rel=\"stylesheet\" href=\"//cuthbertLab.github.io/music21j/css/m21.css\"\n",
       "                    type=\"text/css\" />\n",
       "                <script>\n",
       "                require.config({\n",
       "                    paths: {'music21': '//cuthbertLab.github.io/music21j/src/music21'}\n",
       "                });\n",
       "                require(['music21'], function() {\n",
       "                               mp = new music21.miditools.MidiPlayer();\n",
       "                               mp.addPlayer('#midiPlayerDiv60694');\n",
       "                               mp.base64Load('data:audio/midi;base64,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');\n",
       "                        });\n",
       "                </script>"
      ],
      "text/plain": [
       "<IPython.core.display.HTML object>"
      ]
     },
     "metadata": {},
     "output_type": "display_data"
    }
   ],
   "source": [
    "dicant.show('midi')"
   ]
  },
  {
   "cell_type": "markdown",
   "metadata": {},
   "source": [
    "# Notes"
   ]
  },
  {
   "cell_type": "code",
   "execution_count": 46,
   "metadata": {},
   "outputs": [
    {
     "data": {
      "text/plain": [
       "<module 'music21.note' from 'C:\\\\Users\\\\Mohit Uniyal\\\\Anaconda3\\\\lib\\\\site-packages\\\\music21\\\\note.py'>"
      ]
     },
     "execution_count": 46,
     "metadata": {},
     "output_type": "execute_result"
    }
   ],
   "source": [
    "note"
   ]
  },
  {
   "cell_type": "code",
   "execution_count": 47,
   "metadata": {},
   "outputs": [
    {
     "data": {
      "text/plain": [
       "['GeneralNote',\n",
       " 'Lyric',\n",
       " 'LyricException',\n",
       " 'NotRest',\n",
       " 'NotRestException',\n",
       " 'Note',\n",
       " 'NoteException',\n",
       " 'Rest',\n",
       " 'SpacerRest',\n",
       " 'Test',\n",
       " 'TestExternal',\n",
       " 'Unpitched',\n",
       " '_DOC_ORDER',\n",
       " '_MOD',\n",
       " '__builtins__',\n",
       " '__cached__',\n",
       " '__doc__',\n",
       " '__file__',\n",
       " '__loader__',\n",
       " '__name__',\n",
       " '__package__',\n",
       " '__spec__',\n",
       " 'base',\n",
       " 'beam',\n",
       " 'common',\n",
       " 'copy',\n",
       " 'duration',\n",
       " 'environLocal',\n",
       " 'environment',\n",
       " 'exceptions21',\n",
       " 'expressions',\n",
       " 'interval',\n",
       " 'noteheadTypeNames',\n",
       " 'pitch',\n",
       " 'stemDirectionNames',\n",
       " 'style',\n",
       " 'tie',\n",
       " 'unittest',\n",
       " 'volume']"
      ]
     },
     "execution_count": 47,
     "metadata": {},
     "output_type": "execute_result"
    }
   ],
   "source": [
    "dir(note)"
   ]
  },
  {
   "cell_type": "code",
   "execution_count": 101,
   "metadata": {},
   "outputs": [
    {
     "name": "stdout",
     "output_type": "stream",
     "text": [
      "<music21.note.Note F#>\n"
     ]
    }
   ],
   "source": [
    "f = note.Note(\"F5#\")\n",
    "print(f)"
   ]
  },
  {
   "cell_type": "code",
   "execution_count": 102,
   "metadata": {},
   "outputs": [
    {
     "name": "stdout",
     "output_type": "stream",
     "text": [
      "<music21.duration.Duration 1.0>\n",
      "5\n",
      "F#\n"
     ]
    }
   ],
   "source": [
    "print(f.duration)\n",
    "print(f.octave)\n",
    "print(f.name)"
   ]
  },
  {
   "cell_type": "code",
   "execution_count": 103,
   "metadata": {},
   "outputs": [
    {
     "data": {
      "text/plain": [
       "<music21.pitch.Pitch F#5>"
      ]
     },
     "execution_count": 103,
     "metadata": {},
     "output_type": "execute_result"
    }
   ],
   "source": [
    "f.pitch"
   ]
  },
  {
   "cell_type": "code",
   "execution_count": 104,
   "metadata": {},
   "outputs": [
    {
     "data": {
      "text/plain": [
       "739.988845423269"
      ]
     },
     "execution_count": 104,
     "metadata": {},
     "output_type": "execute_result"
    }
   ],
   "source": [
    "f.pitch.frequency"
   ]
  },
  {
   "cell_type": "code",
   "execution_count": 107,
   "metadata": {},
   "outputs": [
    {
     "data": {
      "text/plain": [
       "6"
      ]
     },
     "execution_count": 107,
     "metadata": {},
     "output_type": "execute_result"
    }
   ],
   "source": [
    "f.pitch.pitchClass"
   ]
  },
  {
   "cell_type": "code",
   "execution_count": 112,
   "metadata": {},
   "outputs": [
    {
     "name": "stdout",
     "output_type": "stream",
     "text": [
      "<music21.note.Note B->\n"
     ]
    }
   ],
   "source": [
    "# b-flat note\n",
    "b_flat = note.Note(\"B-2\")\n",
    "print(b_flat)"
   ]
  },
  {
   "cell_type": "code",
   "execution_count": 116,
   "metadata": {},
   "outputs": [
    {
     "name": "stdout",
     "output_type": "stream",
     "text": [
      "10\n",
      "A\n"
     ]
    }
   ],
   "source": [
    "print(b_flat.pitch.pitchClass)\n",
    "print(b_flat.pitch.pitchClassString)"
   ]
  },
  {
   "cell_type": "code",
   "execution_count": 117,
   "metadata": {},
   "outputs": [
    {
     "data": {
      "text/plain": [
       "<accidental flat>"
      ]
     },
     "execution_count": 117,
     "metadata": {},
     "output_type": "execute_result"
    }
   ],
   "source": [
    "b_flat.pitch.accidental"
   ]
  },
  {
   "cell_type": "code",
   "execution_count": 125,
   "metadata": {},
   "outputs": [],
   "source": [
    "#Rest\n",
    "rest = note.Rest(type=\"whole\")"
   ]
  },
  {
   "cell_type": "code",
   "execution_count": 137,
   "metadata": {},
   "outputs": [
    {
     "data": {
      "text/plain": [
       "<music21.duration.Duration 4.0>"
      ]
     },
     "execution_count": 137,
     "metadata": {},
     "output_type": "execute_result"
    }
   ],
   "source": [
    "rest.duration"
   ]
  },
  {
   "cell_type": "markdown",
   "metadata": {},
   "source": [
    "# Pitch"
   ]
  },
  {
   "cell_type": "code",
   "execution_count": 184,
   "metadata": {},
   "outputs": [],
   "source": [
    "pl =  pitch.Pitch(\"A-4\")"
   ]
  },
  {
   "cell_type": "code",
   "execution_count": 185,
   "metadata": {},
   "outputs": [
    {
     "name": "stdout",
     "output_type": "stream",
     "text": [
      "4\n",
      "8\n",
      "A-\n",
      "-1.0\n",
      "A-4\n",
      "68\n"
     ]
    }
   ],
   "source": [
    "print(pl.octave)\n",
    "print(pl.pitchClass)\n",
    "print(pl.name)\n",
    "print(pl.accidental.alter)\n",
    "print(pl.nameWithOctave)\n",
    "print(pl.midi)"
   ]
  },
  {
   "cell_type": "code",
   "execution_count": 189,
   "metadata": {},
   "outputs": [
    {
     "name": "stdout",
     "output_type": "stream",
     "text": [
      "A♭\n",
      "la bèmol\n"
     ]
    }
   ],
   "source": [
    "print(pl.unicodeName)\n",
    "print(pl.spanish)"
   ]
  },
  {
   "cell_type": "code",
   "execution_count": 206,
   "metadata": {},
   "outputs": [
    {
     "name": "stdout",
     "output_type": "stream",
     "text": [
      "<music21.duration.Duration 1.5>\n"
     ]
    }
   ],
   "source": [
    "#  Duration\n",
    "\n",
    "dur = duration.Duration(1.5)\n",
    "print(dur)"
   ]
  },
  {
   "cell_type": "code",
   "execution_count": 207,
   "metadata": {},
   "outputs": [
    {
     "name": "stdout",
     "output_type": "stream",
     "text": [
      "1.5\n",
      "quarter\n"
     ]
    }
   ],
   "source": [
    "print(dur.quarterLength)\n",
    "print(dur.type)"
   ]
  },
  {
   "cell_type": "code",
   "execution_count": 211,
   "metadata": {},
   "outputs": [
    {
     "data": {
      "text/plain": [
       "<music21.duration.Duration 2.0>"
      ]
     },
     "execution_count": 211,
     "metadata": {},
     "output_type": "execute_result"
    }
   ],
   "source": [
    "n.duration"
   ]
  },
  {
   "cell_type": "code",
   "execution_count": null,
   "metadata": {},
   "outputs": [],
   "source": []
  },
  {
   "cell_type": "code",
   "execution_count": 212,
   "metadata": {},
   "outputs": [],
   "source": [
    "otherNote = note.Note(\"F6\")\n",
    "otherNote.lyric = \"I'm the Queen of the Night!\""
   ]
  },
  {
   "cell_type": "code",
   "execution_count": 222,
   "metadata": {},
   "outputs": [
    {
     "data": {
      "text/plain": [
       "<music21.note.Lyric number=1 syllabic=single text=\"I'm the Queen of the Night!\">"
      ]
     },
     "execution_count": 222,
     "metadata": {},
     "output_type": "execute_result"
    }
   ],
   "source": [
    "otherNote.lyrics[0]"
   ]
  },
  {
   "cell_type": "code",
   "execution_count": 223,
   "metadata": {},
   "outputs": [],
   "source": [
    "otherNote.addLyric(\"Mohit\")"
   ]
  },
  {
   "cell_type": "code",
   "execution_count": 229,
   "metadata": {},
   "outputs": [
    {
     "data": {
      "text/html": [
       "\n",
       "                <div id='midiPlayerDiv60896'></div>\n",
       "                <link rel=\"stylesheet\" href=\"//cuthbertLab.github.io/music21j/css/m21.css\"\n",
       "                    type=\"text/css\" />\n",
       "                <script>\n",
       "                require.config({\n",
       "                    paths: {'music21': '//cuthbertLab.github.io/music21j/src/music21'}\n",
       "                });\n",
       "                require(['music21'], function() {\n",
       "                               mp = new music21.miditools.MidiPlayer();\n",
       "                               mp.addPlayer('#midiPlayerDiv60896');\n",
       "                               mp.base64Load('data:audio/midi;base64,TVRoZAAAAAYAAQABBABNVHJrAAAAFgD/AwAA4ABAAJBZWogAgFkAiAD/LwA=');\n",
       "                        });\n",
       "                </script>"
      ],
      "text/plain": [
       "<IPython.core.display.HTML object>"
      ]
     },
     "metadata": {},
     "output_type": "display_data"
    }
   ],
   "source": [
    "otherNote.show('midi')"
   ]
  },
  {
   "cell_type": "markdown",
   "metadata": {},
   "source": [
    "# Streams"
   ]
  },
  {
   "cell_type": "code",
   "execution_count": 241,
   "metadata": {},
   "outputs": [],
   "source": [
    "note1 = note.Note(\"C4\")\n",
    "note1.duration.type = 'half'\n",
    "note2 = note.Note(\"F#4\")\n",
    "note3 = note.Note(\"B-2\")"
   ]
  },
  {
   "cell_type": "code",
   "execution_count": 242,
   "metadata": {},
   "outputs": [],
   "source": [
    "stream1 = stream.Stream()\n",
    "stream1.id = 'some notes'\n",
    "stream1.append(note1)\n",
    "stream1.append(note2)\n",
    "stream1.append(note3)"
   ]
  },
  {
   "cell_type": "code",
   "execution_count": 243,
   "metadata": {},
   "outputs": [],
   "source": [
    "biggerStream = stream.Stream()\n",
    "note2 = note.Note(\"D#5\")\n",
    "biggerStream.insert(0, note2)\n",
    "biggerStream.append(stream1)"
   ]
  },
  {
   "cell_type": "code",
   "execution_count": 246,
   "metadata": {},
   "outputs": [
    {
     "name": "stdout",
     "output_type": "stream",
     "text": [
      "{0.0} <music21.note.Note C>\n",
      "{2.0} <music21.note.Note F#>\n",
      "{3.0} <music21.note.Note B->\n"
     ]
    }
   ],
   "source": [
    "stream1.show('text')"
   ]
  },
  {
   "cell_type": "code",
   "execution_count": 244,
   "metadata": {},
   "outputs": [
    {
     "name": "stdout",
     "output_type": "stream",
     "text": [
      "{0.0} <music21.note.Note D#>\n",
      "{1.0} <music21.stream.Stream some notes>\n",
      "    {0.0} <music21.note.Note C>\n",
      "    {2.0} <music21.note.Note F#>\n",
      "    {3.0} <music21.note.Note B->\n"
     ]
    }
   ],
   "source": [
    "biggerStream.show('text')"
   ]
  },
  {
   "cell_type": "code",
   "execution_count": 247,
   "metadata": {},
   "outputs": [
    {
     "data": {
      "text/plain": [
       "<music21.note.Note B->"
      ]
     },
     "execution_count": 247,
     "metadata": {},
     "output_type": "execute_result"
    }
   ],
   "source": [
    "biggerStream[1][2]"
   ]
  },
  {
   "cell_type": "markdown",
   "metadata": {},
   "source": [
    "# Accessing Scores, Parts, Measures, and Notes"
   ]
  },
  {
   "cell_type": "code",
   "execution_count": 248,
   "metadata": {},
   "outputs": [],
   "source": [
    "sBach = corpus.parse('bach/bwv57.8')"
   ]
  },
  {
   "cell_type": "code",
   "execution_count": 257,
   "metadata": {},
   "outputs": [
    {
     "data": {
      "text/plain": [
       "<music21.stream.Score 0x18f9f11b278>"
      ]
     },
     "execution_count": 257,
     "metadata": {},
     "output_type": "execute_result"
    }
   ],
   "source": [
    "sBach"
   ]
  },
  {
   "cell_type": "code",
   "execution_count": 256,
   "metadata": {},
   "outputs": [
    {
     "name": "stdout",
     "output_type": "stream",
     "text": [
      "<music21.stream.Part Soprano>\n",
      "<music21.stream.Part Alto>\n",
      "<music21.stream.Part Tenor>\n",
      "<music21.stream.Part Bass>\n"
     ]
    }
   ],
   "source": [
    "for i in sBach.parts:\n",
    "    print(i)"
   ]
  },
  {
   "cell_type": "code",
   "execution_count": 272,
   "metadata": {},
   "outputs": [
    {
     "data": {
      "text/plain": [
       "4"
      ]
     },
     "execution_count": 272,
     "metadata": {},
     "output_type": "execute_result"
    }
   ],
   "source": [
    "len(sBach.getElementsByClass('Part'))"
   ]
  },
  {
   "cell_type": "code",
   "execution_count": 252,
   "metadata": {},
   "outputs": [
    {
     "name": "stdout",
     "output_type": "stream",
     "text": [
      "{0.0} <music21.text.TextBox \"PDF © 2004...\">\n",
      "{0.0} <music21.text.TextBox \"BWV 57.8\">\n",
      "{0.0} <music21.metadata.Metadata object at 0x0000018F9F501908>\n",
      "{0.0} <music21.stream.Part Soprano>\n",
      "    {0.0} <music21.instrument.Instrument 'P1: Soprano: '>\n",
      "    {0.0} <music21.stream.Measure 1 offset=0.0>\n",
      "        {0.0} <music21.layout.SystemLayout>\n",
      "        {0.0} <music21.clef.TrebleClef>\n",
      "        {0.0} <music21.key.Key of B- major>\n",
      "        {0.0} <music21.meter.TimeSignature 3/4>\n",
      "        {0.0} <music21.note.Note B->\n",
      "        {1.0} <music21.note.Note B->\n",
      "        {2.0} <music21.note.Note F>\n",
      "    {3.0} <music21.stream.Measure 2 offset=3.0>\n",
      "        {0.0} <music21.note.Note D>\n",
      "        {1.5} <music21.note.Note C>\n",
      "        {2.0} <music21.note.Note B->\n",
      "    {6.0} <music21.stream.Measure 3 offset=6.0>\n",
      "        {0.0} <music21.note.Note A>\n",
      "        {1.0} <music21.note.Note B->\n",
      "        {1.5} <music21.note.Note A>\n",
      "        {2.0} <music21.note.Note G>\n",
      "        {2.5} <music21.note.Note F>\n",
      "    {9.0} <music21.stream.Measure 4 offset=9.0>\n",
      "        {0.0} <music21.note.Note B->\n",
      "        {1.0} <music21.note.Note C>\n",
      "        {2.0} <music21.note.Note D>\n",
      "        {2.5} <music21.note.Note E->\n",
      "    {12.0} <music21.stream.Measure 5 offset=12.0>\n",
      "        {0.0} <music21.note.Note C>\n",
      "        {2.0} <music21.note.Note B->\n",
      "        {3.0} <music21.bar.Repeat direction=end>\n",
      "    {15.0} <music21.stream.Measure 6 offset=15.0>\n",
      "        {0.0} <music21.layout.SystemLayout>\n",
      "        {0.0} <music21.note.Note F>\n",
      "        {1.0} <music21.note.Note E->\n",
      "        {1.5} <music21.note.Note D>\n",
      "        {2.0} <music21.note.Note C>\n",
      "        {2.5} <music21.note.Note B->\n",
      "    {18.0} <music21.stream.Measure 7 offset=18.0>\n",
      "        {0.0} <music21.note.Note G>\n",
      "        {2.0} <music21.note.Rest rest>\n",
      "    {21.0} <music21.stream.Measure 8 offset=21.0>\n",
      "        {0.0} <music21.note.Note D>\n",
      "        {1.0} <music21.note.Note E->\n",
      "        {2.0} <music21.note.Note F>\n",
      "    {24.0} <music21.stream.Measure 9 offset=24.0>\n",
      "        {0.0} <music21.note.Note F>\n",
      "        {1.0} <music21.note.Note G>\n",
      "        {1.5} <music21.note.Note F>\n",
      "        {2.0} <music21.note.Note E->\n",
      "        {2.5} <music21.note.Note D>\n",
      "    {27.0} <music21.stream.Measure 10 offset=27.0>\n",
      "        {0.0} <music21.note.Note C>\n",
      "        {2.0} <music21.note.Rest rest>\n",
      "    {30.0} <music21.stream.Measure 11 offset=30.0>\n",
      "        {0.0} <music21.note.Note F>\n",
      "        {1.0} <music21.note.Note G>\n",
      "        {2.0} <music21.note.Note A>\n",
      "    {33.0} <music21.stream.Measure 12 offset=33.0>\n",
      "        {0.0} <music21.note.Note B->\n",
      "        {1.0} <music21.note.Note C>\n",
      "        {2.0} <music21.note.Note D>\n",
      "        {2.5} <music21.note.Note E->\n",
      "    {36.0} <music21.stream.Measure 13 offset=36.0>\n",
      "        {0.0} <music21.note.Note C>\n",
      "        {2.0} <music21.note.Note B->\n",
      "        {3.0} <music21.bar.Barline type=final>\n",
      "{0.0} <music21.stream.Part Alto>\n",
      "    {0.0} <music21.instrument.Instrument 'P2: Alto: '>\n",
      "    {0.0} <music21.stream.Measure 1 offset=0.0>\n",
      "        {0.0} <music21.layout.SystemLayout>\n",
      "        {0.0} <music21.layout.StaffLayout distance 130, staffNumber 1, staffSize None, staffLines None>\n",
      "        {0.0} <music21.clef.TrebleClef>\n",
      "        {0.0} <music21.key.Key of B- major>\n",
      "        {0.0} <music21.meter.TimeSignature 3/4>\n",
      "        {0.0} <music21.note.Note F>\n",
      "        {1.0} <music21.note.Note F>\n",
      "        {2.0} <music21.note.Note F>\n",
      "    {3.0} <music21.stream.Measure 2 offset=3.0>\n",
      "        {0.0} <music21.note.Note F>\n",
      "        {1.5} <music21.note.Note F>\n",
      "        {2.0} <music21.note.Note G>\n",
      "    {6.0} <music21.stream.Measure 3 offset=6.0>\n",
      "        {0.0} <music21.note.Note C>\n",
      "        {1.0} <music21.note.Note C>\n",
      "        {2.0} <music21.note.Note C>\n",
      "    {9.0} <music21.stream.Measure 4 offset=9.0>\n",
      "        {0.0} <music21.note.Note F>\n",
      "        {1.0} <music21.note.Note G>\n",
      "        {1.5} <music21.note.Note A>\n",
      "        {2.0} <music21.note.Note B->\n",
      "        {2.5} <music21.note.Note C>\n",
      "    {12.0} <music21.stream.Measure 5 offset=12.0>\n",
      "        {0.0} <music21.note.Note A>\n",
      "        {2.0} <music21.note.Note F>\n",
      "        {3.0} <music21.bar.Repeat direction=end>\n",
      "    {15.0} <music21.stream.Measure 6 offset=15.0>\n",
      "        {0.0} <music21.layout.SystemLayout>\n",
      "        {0.0} <music21.layout.StaffLayout distance 130, staffNumber 1, staffSize None, staffLines None>\n",
      "        {0.0} <music21.note.Note B->\n",
      "        {1.0} <music21.note.Note A>\n",
      "        {2.0} <music21.note.Note F>\n",
      "    {18.0} <music21.stream.Measure 7 offset=18.0>\n",
      "        {0.0} <music21.note.Note B->\n",
      "        {2.0} <music21.note.Rest rest>\n",
      "    {21.0} <music21.stream.Measure 8 offset=21.0>\n",
      "        {0.0} <music21.note.Note B->\n",
      "        {1.0} <music21.note.Note B->\n",
      "        {2.0} <music21.note.Note A>\n",
      "        {2.5} <music21.note.Note G>\n",
      "    {24.0} <music21.stream.Measure 9 offset=24.0>\n",
      "        {0.0} <music21.note.Note F>\n",
      "        {1.0} <music21.note.Note B->\n",
      "        {2.0} <music21.note.Note G>\n",
      "    {27.0} <music21.stream.Measure 10 offset=27.0>\n",
      "        {0.0} <music21.note.Note A>\n",
      "        {2.0} <music21.note.Rest rest>\n",
      "    {30.0} <music21.stream.Measure 11 offset=30.0>\n",
      "        {0.0} <music21.note.Note F>\n",
      "        {1.0} <music21.note.Note C>\n",
      "        {2.0} <music21.note.Note C>\n",
      "    {33.0} <music21.stream.Measure 12 offset=33.0>\n",
      "        {0.0} <music21.note.Note B->\n",
      "        {1.0} <music21.note.Note F>\n",
      "        {2.0} <music21.note.Note F>\n",
      "    {36.0} <music21.stream.Measure 13 offset=36.0>\n",
      "        {0.0} <music21.note.Note F>\n",
      "        {1.5} <music21.note.Note E->\n",
      "        {2.0} <music21.note.Note D>\n",
      "        {3.0} <music21.bar.Barline type=final>\n",
      "{0.0} <music21.stream.Part Tenor>\n",
      "    {0.0} <music21.instrument.Instrument 'P3: Tenor: '>\n",
      "    {0.0} <music21.stream.Measure 1 offset=0.0>\n",
      "        {0.0} <music21.layout.SystemLayout>\n",
      "        {0.0} <music21.layout.StaffLayout distance 130, staffNumber 1, staffSize None, staffLines None>\n",
      "        {0.0} <music21.clef.BassClef>\n",
      "        {0.0} <music21.key.Key of B- major>\n",
      "        {0.0} <music21.meter.TimeSignature 3/4>\n",
      "        {0.0} <music21.note.Note D>\n",
      "        {1.0} <music21.note.Note D>\n",
      "        {2.0} <music21.note.Note C>\n",
      "    {3.0} <music21.stream.Measure 2 offset=3.0>\n",
      "        {0.0} <music21.note.Note B->\n",
      "        {1.5} <music21.note.Note C>\n",
      "        {2.0} <music21.note.Note D>\n",
      "        {2.5} <music21.note.Note E>\n",
      "    {6.0} <music21.stream.Measure 3 offset=6.0>\n",
      "        {0.0} <music21.note.Note F>\n",
      "        {1.0} <music21.note.Note F>\n",
      "        {2.0} <music21.note.Note A>\n",
      "    {9.0} <music21.stream.Measure 4 offset=9.0>\n",
      "        {0.0} <music21.note.Note B->\n",
      "        {1.0} <music21.note.Note E->\n",
      "        {2.0} <music21.note.Note F>\n",
      "    {12.0} <music21.stream.Measure 5 offset=12.0>\n",
      "        {0.0} <music21.note.Note F>\n",
      "        {1.0} <music21.note.Note E->\n",
      "        {2.0} <music21.note.Note D>\n",
      "        {3.0} <music21.bar.Repeat direction=end>\n",
      "    {15.0} <music21.stream.Measure 6 offset=15.0>\n",
      "        {0.0} <music21.layout.SystemLayout>\n",
      "        {0.0} <music21.layout.StaffLayout distance 130, staffNumber 1, staffSize None, staffLines None>\n",
      "        {0.0} <music21.note.Note D>\n",
      "        {1.0} <music21.note.Note E->\n",
      "        {2.0} <music21.note.Note F>\n",
      "    {18.0} <music21.stream.Measure 7 offset=18.0>\n",
      "        {0.0} <music21.note.Note E->\n",
      "        {2.0} <music21.note.Rest rest>\n",
      "    {21.0} <music21.stream.Measure 8 offset=21.0>\n",
      "        {0.0} <music21.note.Note F>\n",
      "        {1.0} <music21.note.Note G>\n",
      "        {2.0} <music21.note.Note C>\n",
      "    {24.0} <music21.stream.Measure 9 offset=24.0>\n",
      "        {0.0} <music21.note.Note C>\n",
      "        {1.0} <music21.note.Note B->\n",
      "        {2.0} <music21.note.Note B->\n",
      "    {27.0} <music21.stream.Measure 10 offset=27.0>\n",
      "        {0.0} <music21.note.Note F>\n",
      "        {2.0} <music21.note.Rest rest>\n",
      "    {30.0} <music21.stream.Measure 11 offset=30.0>\n",
      "        {0.0} <music21.note.Note B->\n",
      "        {1.0} <music21.note.Note A>\n",
      "        {1.5} <music21.note.Note G>\n",
      "        {2.0} <music21.note.Note E->\n",
      "    {33.0} <music21.stream.Measure 12 offset=33.0>\n",
      "        {0.0} <music21.note.Note D>\n",
      "        {1.0} <music21.note.Note C>\n",
      "        {2.0} <music21.note.Note B->\n",
      "    {36.0} <music21.stream.Measure 13 offset=36.0>\n",
      "        {0.0} <music21.note.Note B->\n",
      "        {1.0} <music21.note.Note A>\n",
      "        {2.0} <music21.note.Note F>\n",
      "        {3.0} <music21.bar.Barline type=final>\n",
      "{0.0} <music21.stream.Part Bass>\n",
      "    {0.0} <music21.instrument.Instrument 'P4: Bass: '>\n",
      "    {0.0} <music21.stream.Measure 1 offset=0.0>\n",
      "        {0.0} <music21.layout.SystemLayout>\n",
      "        {0.0} <music21.layout.StaffLayout distance 130, staffNumber 1, staffSize None, staffLines None>\n",
      "        {0.0} <music21.clef.BassClef>\n",
      "        {0.0} <music21.key.Key of B- major>\n",
      "        {0.0} <music21.meter.TimeSignature 3/4>\n",
      "        {0.0} <music21.note.Note B->\n",
      "        {1.0} <music21.note.Note B->\n",
      "        {2.0} <music21.note.Note A>\n",
      "    {3.0} <music21.stream.Measure 2 offset=3.0>\n",
      "        {0.0} <music21.note.Note B->\n",
      "        {1.5} <music21.note.Note A>\n",
      "        {2.0} <music21.note.Note G>\n",
      "    {6.0} <music21.stream.Measure 3 offset=6.0>\n",
      "        {0.0} <music21.note.Note F>\n",
      "        {1.0} <music21.note.Note C>\n",
      "        {2.0} <music21.note.Note E->\n",
      "    {9.0} <music21.stream.Measure 4 offset=9.0>\n",
      "        {0.0} <music21.note.Note D>\n",
      "        {1.0} <music21.note.Note C>\n",
      "        {2.0} <music21.note.Note B->\n",
      "    {12.0} <music21.stream.Measure 5 offset=12.0>\n",
      "        {0.0} <music21.note.Note F>\n",
      "        {2.0} <music21.note.Note B->\n",
      "        {3.0} <music21.bar.Repeat direction=end>\n",
      "    {15.0} <music21.stream.Measure 6 offset=15.0>\n",
      "        {0.0} <music21.layout.SystemLayout>\n",
      "        {0.0} <music21.layout.StaffLayout distance 130, staffNumber 1, staffSize None, staffLines None>\n",
      "        {0.0} <music21.note.Note B->\n",
      "        {1.0} <music21.note.Note C>\n",
      "        {2.0} <music21.note.Note D>\n",
      "    {18.0} <music21.stream.Measure 7 offset=18.0>\n",
      "        {0.0} <music21.note.Note E->\n",
      "        {2.0} <music21.note.Rest rest>\n",
      "    {21.0} <music21.stream.Measure 8 offset=21.0>\n",
      "        {0.0} <music21.note.Note B->\n",
      "        {1.0} <music21.note.Note A>\n",
      "        {1.5} <music21.note.Note G>\n",
      "        {2.0} <music21.note.Note F>\n",
      "        {2.5} <music21.note.Note E->\n",
      "    {24.0} <music21.stream.Measure 9 offset=24.0>\n",
      "        {0.0} <music21.note.Note D>\n",
      "        {1.0} <music21.note.Note D>\n",
      "        {2.0} <music21.note.Note E->\n",
      "    {27.0} <music21.stream.Measure 10 offset=27.0>\n",
      "        {0.0} <music21.note.Note F>\n",
      "        {2.0} <music21.note.Rest rest>\n",
      "    {30.0} <music21.stream.Measure 11 offset=30.0>\n",
      "        {0.0} <music21.note.Note D>\n",
      "        {1.0} <music21.note.Note E>\n",
      "        {2.0} <music21.note.Note F#>\n",
      "    {33.0} <music21.stream.Measure 12 offset=33.0>\n",
      "        {0.0} <music21.note.Note G>\n",
      "        {1.0} <music21.note.Note A>\n",
      "        {2.0} <music21.note.Note B->\n",
      "    {36.0} <music21.stream.Measure 13 offset=36.0>\n",
      "        {0.0} <music21.note.Note F>\n",
      "        {2.0} <music21.note.Note B->\n",
      "        {3.0} <music21.bar.Barline type=final>\n",
      "{0.0} <music21.layout.ScoreLayout>\n",
      "{0.0} <music21.layout.StaffGroup <music21.stream.Part Soprano><music21.stream.Part Alto><music21.stream.Part Tenor><music21.stream.Part Bass>>\n"
     ]
    }
   ],
   "source": [
    "sBach.show('text')"
   ]
  },
  {
   "cell_type": "code",
   "execution_count": 258,
   "metadata": {},
   "outputs": [
    {
     "data": {
      "text/plain": [
       "9"
      ]
     },
     "execution_count": 258,
     "metadata": {},
     "output_type": "execute_result"
    }
   ],
   "source": [
    "len(sBach)"
   ]
  },
  {
   "cell_type": "code",
   "execution_count": 260,
   "metadata": {},
   "outputs": [
    {
     "data": {
      "text/plain": [
       "14"
      ]
     },
     "execution_count": 260,
     "metadata": {},
     "output_type": "execute_result"
    }
   ],
   "source": [
    "len(sBach[3])"
   ]
  },
  {
   "cell_type": "code",
   "execution_count": 263,
   "metadata": {},
   "outputs": [
    {
     "data": {
      "text/plain": [
       "7"
      ]
     },
     "execution_count": 263,
     "metadata": {},
     "output_type": "execute_result"
    }
   ],
   "source": [
    "len(sBach[3][1])"
   ]
  },
  {
   "cell_type": "code",
   "execution_count": 267,
   "metadata": {},
   "outputs": [
    {
     "data": {
      "text/plain": [
       "<music21.stream.iterator.StreamIterator for Score:0x18f9f11b278 @:0>"
      ]
     },
     "execution_count": 267,
     "metadata": {},
     "output_type": "execute_result"
    }
   ],
   "source": [
    "sBach.getElementsByClass(stream.Part)    "
   ]
  },
  {
   "cell_type": "code",
   "execution_count": 270,
   "metadata": {},
   "outputs": [
    {
     "data": {
      "text/plain": [
       "13"
      ]
     },
     "execution_count": 270,
     "metadata": {},
     "output_type": "execute_result"
    }
   ],
   "source": [
    "len(sBach.getElementsByClass(stream.Part)[0].getElementsByClass(stream.Measure))"
   ]
  },
  {
   "cell_type": "code",
   "execution_count": 271,
   "metadata": {},
   "outputs": [
    {
     "data": {
      "text/plain": [
       "3"
      ]
     },
     "execution_count": 271,
     "metadata": {},
     "output_type": "execute_result"
    }
   ],
   "source": [
    "len(sBach.getElementsByClass(stream.Part)[0].getElementsByClass(\n",
    "        stream.Measure)[1].getElementsByClass(note.Note))"
   ]
  },
  {
   "cell_type": "code",
   "execution_count": 273,
   "metadata": {},
   "outputs": [],
   "source": [
    "alto = sBach.parts[1] # parts count from zero, so soprano is 0 and alto is 1\n",
    "excerpt = alto.measures(1, 4)"
   ]
  },
  {
   "cell_type": "code",
   "execution_count": 275,
   "metadata": {},
   "outputs": [
    {
     "name": "stdout",
     "output_type": "stream",
     "text": [
      "{0.0} <music21.instrument.Instrument 'P2: Alto: '>\n",
      "{0.0} <music21.stream.Measure 1 offset=0.0>\n",
      "    {0.0} <music21.layout.SystemLayout>\n",
      "    {0.0} <music21.layout.StaffLayout distance 130, staffNumber 1, staffSize None, staffLines None>\n",
      "    {0.0} <music21.clef.TrebleClef>\n",
      "    {0.0} <music21.key.Key of B- major>\n",
      "    {0.0} <music21.meter.TimeSignature 3/4>\n",
      "    {0.0} <music21.note.Note F>\n",
      "    {1.0} <music21.note.Note F>\n",
      "    {2.0} <music21.note.Note F>\n",
      "{3.0} <music21.stream.Measure 2 offset=3.0>\n",
      "    {0.0} <music21.note.Note F>\n",
      "    {1.5} <music21.note.Note F>\n",
      "    {2.0} <music21.note.Note G>\n",
      "{6.0} <music21.stream.Measure 3 offset=6.0>\n",
      "    {0.0} <music21.note.Note C>\n",
      "    {1.0} <music21.note.Note C>\n",
      "    {2.0} <music21.note.Note C>\n",
      "{9.0} <music21.stream.Measure 4 offset=9.0>\n",
      "    {0.0} <music21.note.Note F>\n",
      "    {1.0} <music21.note.Note G>\n",
      "    {1.5} <music21.note.Note A>\n",
      "    {2.0} <music21.note.Note B->\n",
      "    {2.5} <music21.note.Note C>\n"
     ]
    }
   ],
   "source": [
    "excerpt.show('text')"
   ]
  },
  {
   "cell_type": "markdown",
   "metadata": {},
   "source": [
    "# Chords"
   ]
  },
  {
   "cell_type": "code",
   "execution_count": 276,
   "metadata": {},
   "outputs": [],
   "source": [
    "cMinor = chord.Chord([\"C4\",\"G4\",\"E-5\"])"
   ]
  },
  {
   "cell_type": "code",
   "execution_count": 292,
   "metadata": {},
   "outputs": [
    {
     "data": {
      "text/plain": [
       "<music21.chord.Chord C4 G4 E-5>"
      ]
     },
     "execution_count": 292,
     "metadata": {},
     "output_type": "execute_result"
    }
   ],
   "source": [
    "cMinor"
   ]
  },
  {
   "cell_type": "code",
   "execution_count": 288,
   "metadata": {},
   "outputs": [
    {
     "data": {
      "text/plain": [
       "2.0"
      ]
     },
     "execution_count": 288,
     "metadata": {},
     "output_type": "execute_result"
    }
   ],
   "source": [
    "cMinor.duration.type = 'half'\n",
    "cMinor.quarterLength"
   ]
  },
  {
   "cell_type": "code",
   "execution_count": 290,
   "metadata": {},
   "outputs": [
    {
     "data": {
      "text/plain": [
       "(<music21.pitch.Pitch C4>, <music21.pitch.Pitch G4>, <music21.pitch.Pitch E-5>)"
      ]
     },
     "execution_count": 290,
     "metadata": {},
     "output_type": "execute_result"
    }
   ],
   "source": [
    "cMinor.pitches"
   ]
  },
  {
   "cell_type": "code",
   "execution_count": 294,
   "metadata": {},
   "outputs": [
    {
     "data": {
      "text/plain": [
       "True"
      ]
     },
     "execution_count": 294,
     "metadata": {},
     "output_type": "execute_result"
    }
   ],
   "source": [
    "cMinor.isMinorTriad()"
   ]
  },
  {
   "cell_type": "code",
   "execution_count": 297,
   "metadata": {},
   "outputs": [
    {
     "data": {
      "text/plain": [
       "<music21.chord.Chord C4 E-4 G4>"
      ]
     },
     "execution_count": 297,
     "metadata": {},
     "output_type": "execute_result"
    }
   ],
   "source": [
    "cMinor.closedPosition()"
   ]
  },
  {
   "cell_type": "code",
   "execution_count": 298,
   "metadata": {},
   "outputs": [
    {
     "data": {
      "text/plain": [
       "'minor triad'"
      ]
     },
     "execution_count": 298,
     "metadata": {},
     "output_type": "execute_result"
    }
   ],
   "source": [
    "cMinor.commonName"
   ]
  },
  {
   "cell_type": "code",
   "execution_count": 300,
   "metadata": {},
   "outputs": [
    {
     "data": {
      "text/plain": [
       "<music21.chord.Chord D4 F#4 A5>"
      ]
     },
     "execution_count": 300,
     "metadata": {},
     "output_type": "execute_result"
    }
   ],
   "source": [
    "d = note.Note('D4')\n",
    "fSharp = note.Note('F#4')\n",
    "a = note.Note('A5')\n",
    "dMajor = chord.Chord([d, fSharp, a])\n",
    "\n",
    "dMajor"
   ]
  },
  {
   "cell_type": "code",
   "execution_count": 301,
   "metadata": {},
   "outputs": [
    {
     "data": {
      "text/plain": [
       "'Chord {D in octave 4 | F-sharp in octave 4 | A in octave 5} Quarter'"
      ]
     },
     "execution_count": 301,
     "metadata": {},
     "output_type": "execute_result"
    }
   ],
   "source": [
    "dMajor.fullName"
   ]
  }
 ],
 "metadata": {
  "kernelspec": {
   "display_name": "Python 3",
   "language": "python",
   "name": "python3"
  },
  "language_info": {
   "codemirror_mode": {
    "name": "ipython",
    "version": 3
   },
   "file_extension": ".py",
   "mimetype": "text/x-python",
   "name": "python",
   "nbconvert_exporter": "python",
   "pygments_lexer": "ipython3",
   "version": "3.7.3"
  }
 },
 "nbformat": 4,
 "nbformat_minor": 2
}
